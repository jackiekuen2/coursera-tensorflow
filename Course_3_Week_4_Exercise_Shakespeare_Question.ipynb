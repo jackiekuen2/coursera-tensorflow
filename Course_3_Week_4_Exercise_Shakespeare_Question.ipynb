{
  "nbformat": 4,
  "nbformat_minor": 0,
  "metadata": {
    "colab": {
      "name": "Course 3 - Week 4 - Exercise-Shakespeare-Question.ipynb",
      "provenance": [],
      "collapsed_sections": [],
      "include_colab_link": true
    },
    "kernelspec": {
      "name": "python3",
      "display_name": "Python 3"
    },
    "accelerator": "GPU"
  },
  "cells": [
    {
      "cell_type": "markdown",
      "metadata": {
        "id": "view-in-github",
        "colab_type": "text"
      },
      "source": [
        "<a href=\"https://colab.research.google.com/github/jackiekuen2/coursera-tensorflow/blob/master/Course_3_Week_4_Exercise_Shakespeare_Question.ipynb\" target=\"_parent\"><img src=\"https://colab.research.google.com/assets/colab-badge.svg\" alt=\"Open In Colab\"/></a>"
      ]
    },
    {
      "cell_type": "code",
      "metadata": {
        "id": "uGLPF3LDUy06",
        "colab_type": "code",
        "colab": {
          "base_uri": "https://localhost:8080/",
          "height": 419
        },
        "outputId": "b5866c40-ed9e-494f-8a22-b0e89f8eb30b"
      },
      "source": [
        "!pip install tensorflow-gpu==2.0.0-rc0"
      ],
      "execution_count": null,
      "outputs": [
        {
          "output_type": "stream",
          "text": [
            "Requirement already satisfied: tensorflow-gpu==2.0.0-rc0 in /usr/local/lib/python3.6/dist-packages (2.0.0rc0)\n",
            "Requirement already satisfied: wheel>=0.26 in /usr/local/lib/python3.6/dist-packages (from tensorflow-gpu==2.0.0-rc0) (0.33.6)\n",
            "Requirement already satisfied: opt-einsum>=2.3.2 in /usr/local/lib/python3.6/dist-packages (from tensorflow-gpu==2.0.0-rc0) (3.0.1)\n",
            "Requirement already satisfied: six>=1.10.0 in /usr/local/lib/python3.6/dist-packages (from tensorflow-gpu==2.0.0-rc0) (1.12.0)\n",
            "Requirement already satisfied: tf-estimator-nightly<1.14.0.dev2019080602,>=1.14.0.dev2019080601 in /usr/local/lib/python3.6/dist-packages (from tensorflow-gpu==2.0.0-rc0) (1.14.0.dev2019080601)\n",
            "Requirement already satisfied: wrapt>=1.11.1 in /usr/local/lib/python3.6/dist-packages (from tensorflow-gpu==2.0.0-rc0) (1.11.2)\n",
            "Requirement already satisfied: absl-py>=0.7.0 in /usr/local/lib/python3.6/dist-packages (from tensorflow-gpu==2.0.0-rc0) (0.7.1)\n",
            "Requirement already satisfied: gast>=0.2.0 in /usr/local/lib/python3.6/dist-packages (from tensorflow-gpu==2.0.0-rc0) (0.2.2)\n",
            "Requirement already satisfied: keras-applications>=1.0.8 in /usr/local/lib/python3.6/dist-packages (from tensorflow-gpu==2.0.0-rc0) (1.0.8)\n",
            "Requirement already satisfied: keras-preprocessing>=1.0.5 in /usr/local/lib/python3.6/dist-packages (from tensorflow-gpu==2.0.0-rc0) (1.1.0)\n",
            "Requirement already satisfied: numpy<2.0,>=1.16.0 in /usr/local/lib/python3.6/dist-packages (from tensorflow-gpu==2.0.0-rc0) (1.16.4)\n",
            "Requirement already satisfied: google-pasta>=0.1.6 in /usr/local/lib/python3.6/dist-packages (from tensorflow-gpu==2.0.0-rc0) (0.1.7)\n",
            "Requirement already satisfied: astor>=0.6.0 in /usr/local/lib/python3.6/dist-packages (from tensorflow-gpu==2.0.0-rc0) (0.8.0)\n",
            "Requirement already satisfied: grpcio>=1.8.6 in /usr/local/lib/python3.6/dist-packages (from tensorflow-gpu==2.0.0-rc0) (1.15.0)\n",
            "Requirement already satisfied: termcolor>=1.1.0 in /usr/local/lib/python3.6/dist-packages (from tensorflow-gpu==2.0.0-rc0) (1.1.0)\n",
            "Requirement already satisfied: tb-nightly<1.15.0a20190807,>=1.15.0a20190806 in /usr/local/lib/python3.6/dist-packages (from tensorflow-gpu==2.0.0-rc0) (1.15.0a20190806)\n",
            "Requirement already satisfied: protobuf>=3.6.1 in /usr/local/lib/python3.6/dist-packages (from tensorflow-gpu==2.0.0-rc0) (3.7.1)\n",
            "Requirement already satisfied: h5py in /usr/local/lib/python3.6/dist-packages (from keras-applications>=1.0.8->tensorflow-gpu==2.0.0-rc0) (2.8.0)\n",
            "Requirement already satisfied: werkzeug>=0.11.15 in /usr/local/lib/python3.6/dist-packages (from tb-nightly<1.15.0a20190807,>=1.15.0a20190806->tensorflow-gpu==2.0.0-rc0) (0.15.5)\n",
            "Requirement already satisfied: markdown>=2.6.8 in /usr/local/lib/python3.6/dist-packages (from tb-nightly<1.15.0a20190807,>=1.15.0a20190806->tensorflow-gpu==2.0.0-rc0) (3.1.1)\n",
            "Requirement already satisfied: setuptools>=41.0.0 in /usr/local/lib/python3.6/dist-packages (from tb-nightly<1.15.0a20190807,>=1.15.0a20190806->tensorflow-gpu==2.0.0-rc0) (41.2.0)\n"
          ],
          "name": "stdout"
        }
      ]
    },
    {
      "cell_type": "code",
      "metadata": {
        "id": "dtQcQuSSVX8T",
        "colab_type": "code",
        "colab": {
          "base_uri": "https://localhost:8080/",
          "height": 35
        },
        "outputId": "99f0d40b-848f-4934-830d-98f04d8f01cc"
      },
      "source": [
        "import tensorflow as tf\n",
        "print(tf.__version__)"
      ],
      "execution_count": null,
      "outputs": [
        {
          "output_type": "stream",
          "text": [
            "2.0.0-rc0\n"
          ],
          "name": "stdout"
        }
      ]
    },
    {
      "cell_type": "code",
      "metadata": {
        "id": "BOwsuGQQY9OL",
        "colab_type": "code",
        "colab": {}
      },
      "source": [
        "from tensorflow.keras.preprocessing.sequence import pad_sequences\n",
        "from tensorflow.keras.layers import Embedding, LSTM, Dense, Dropout, Bidirectional\n",
        "from tensorflow.keras.preprocessing.text import Tokenizer\n",
        "from tensorflow.keras.models import Sequential\n",
        "from tensorflow.keras.optimizers import Adam\n",
        "### YOUR CODE HERE\n",
        "# Figure out how to import regularizers\n",
        "from tensorflow.keras import regularizers\n",
        "###\n",
        "import tensorflow.keras.utils as ku \n",
        "import numpy as np "
      ],
      "execution_count": null,
      "outputs": []
    },
    {
      "cell_type": "code",
      "metadata": {
        "colab_type": "code",
        "id": "PRnDnCW-Z7qv",
        "colab": {
          "base_uri": "https://localhost:8080/",
          "height": 217
        },
        "outputId": "a38413ad-e67c-4d0d-ec0a-72544f9b56b4"
      },
      "source": [
        "tokenizer = Tokenizer()\n",
        "!wget --no-check-certificate \\\n",
        "    https://storage.googleapis.com/laurencemoroney-blog.appspot.com/sonnets.txt \\\n",
        "    -O /tmp/sonnets.txt\n",
        "data = open('/tmp/sonnets.txt').read()\n",
        "\n",
        "corpus = data.lower().split(\"\\n\") #\n",
        "\n",
        "\n",
        "tokenizer.fit_on_texts(corpus)\n",
        "total_words = len(tokenizer.word_index) + 1\n",
        "\n",
        "# create input sequences using list of tokens\n",
        "input_sequences = []\n",
        "for line in corpus:\n",
        "\ttoken_list = tokenizer.texts_to_sequences([line])[0]\n",
        "\tfor i in range(1, len(token_list)):\n",
        "\t\tn_gram_sequence = token_list[:i+1]\n",
        "\t\tinput_sequences.append(n_gram_sequence)\n",
        "\n",
        "\n",
        "# pad sequences \n",
        "max_sequence_len = max([len(x) for x in input_sequences])\n",
        "input_sequences = np.array(pad_sequences(input_sequences, maxlen=max_sequence_len, padding='pre'))\n",
        "\n",
        "# create predictors and label\n",
        "predictors, label = input_sequences[:,:-1],input_sequences[:,-1]\n",
        "\n",
        "label = ku.to_categorical(label, num_classes=total_words)"
      ],
      "execution_count": null,
      "outputs": [
        {
          "output_type": "stream",
          "text": [
            "--2019-09-06 02:34:14--  https://storage.googleapis.com/laurencemoroney-blog.appspot.com/sonnets.txt\n",
            "Resolving storage.googleapis.com (storage.googleapis.com)... 108.177.127.128, 2a00:1450:4013:c07::80\n",
            "Connecting to storage.googleapis.com (storage.googleapis.com)|108.177.127.128|:443... connected.\n",
            "HTTP request sent, awaiting response... 200 OK\n",
            "Length: 93578 (91K) [text/plain]\n",
            "Saving to: ‘/tmp/sonnets.txt’\n",
            "\n",
            "\r/tmp/sonnets.txt      0%[                    ]       0  --.-KB/s               \r/tmp/sonnets.txt    100%[===================>]  91.38K  --.-KB/s    in 0.001s  \n",
            "\n",
            "2019-09-06 02:34:14 (168 MB/s) - ‘/tmp/sonnets.txt’ saved [93578/93578]\n",
            "\n"
          ],
          "name": "stdout"
        }
      ]
    },
    {
      "cell_type": "code",
      "metadata": {
        "id": "11GZ1Ys6WWZl",
        "colab_type": "code",
        "colab": {
          "base_uri": "https://localhost:8080/",
          "height": 108
        },
        "outputId": "0027283e-b57e-4da9-9154-12434dca4795"
      },
      "source": [
        "# Preview some data\n",
        "print(len(data))\n",
        "print(data[:100])\n",
        "print(type(data))"
      ],
      "execution_count": null,
      "outputs": [
        {
          "output_type": "stream",
          "text": [
            "93578\n",
            "FROM fairest creatures we desire increase,\n",
            "That thereby beauty's rose might never die,\n",
            "But as the ri\n",
            "<class 'str'>\n"
          ],
          "name": "stdout"
        }
      ]
    },
    {
      "cell_type": "code",
      "metadata": {
        "id": "AePCQAIfWsEW",
        "colab_type": "code",
        "colab": {
          "base_uri": "https://localhost:8080/",
          "height": 92
        },
        "outputId": "f97bb40b-5cf4-45f6-e424-d1752a0658c5"
      },
      "source": [
        "print(len(corpus))\n",
        "print(corpus[:3])\n",
        "print(type(corpus))"
      ],
      "execution_count": null,
      "outputs": [
        {
          "output_type": "stream",
          "text": [
            "2159\n",
            "['from fairest creatures we desire increase,', \"that thereby beauty's rose might never die,\", 'but as the riper should by time decease,']\n",
            "<class 'list'>\n"
          ],
          "name": "stdout"
        }
      ]
    },
    {
      "cell_type": "code",
      "metadata": {
        "id": "z2Xd3NexXC5x",
        "colab_type": "code",
        "colab": {
          "base_uri": "https://localhost:8080/",
          "height": 54
        },
        "outputId": "8141ee1a-c7ed-4d2e-c3ff-10e1f08e82c4"
      },
      "source": [
        "print(total_words)\n",
        "print(max_sequence_len)"
      ],
      "execution_count": null,
      "outputs": [
        {
          "output_type": "stream",
          "text": [
            "3211\n",
            "11\n"
          ],
          "name": "stdout"
        }
      ]
    },
    {
      "cell_type": "code",
      "metadata": {
        "id": "gL8nH99oXkMI",
        "colab_type": "code",
        "colab": {
          "base_uri": "https://localhost:8080/",
          "height": 235
        },
        "outputId": "fbf2a21b-83ed-4b56-b297-000635a70952"
      },
      "source": [
        "print(len(input_sequences))\n",
        "print(input_sequences[0:11])"
      ],
      "execution_count": null,
      "outputs": [
        {
          "output_type": "stream",
          "text": [
            "15462\n",
            "[[  0   0   0   0   0   0   0   0   0  34 417]\n",
            " [  0   0   0   0   0   0   0   0  34 417 877]\n",
            " [  0   0   0   0   0   0   0  34 417 877 166]\n",
            " [  0   0   0   0   0   0  34 417 877 166 213]\n",
            " [  0   0   0   0   0  34 417 877 166 213 517]\n",
            " [  0   0   0   0   0   0   0   0   0   8 878]\n",
            " [  0   0   0   0   0   0   0   0   8 878 134]\n",
            " [  0   0   0   0   0   0   0   8 878 134 351]\n",
            " [  0   0   0   0   0   0   8 878 134 351 102]\n",
            " [  0   0   0   0   0   8 878 134 351 102 156]\n",
            " [  0   0   0   0   8 878 134 351 102 156 199]]\n"
          ],
          "name": "stdout"
        }
      ]
    },
    {
      "cell_type": "code",
      "metadata": {
        "id": "w9vH8Y59ajYL",
        "colab_type": "code",
        "colab": {
          "base_uri": "https://localhost:8080/",
          "height": 399
        },
        "outputId": "0454d4c1-1718-4c28-968c-87bf35a8a73b"
      },
      "source": [
        "model = Sequential()\n",
        "model.add(Embedding(total_words, 128, input_length=max_sequence_len-1)) # Your Embedding Layer\n",
        "model.add(Bidirectional(LSTM(150, return_sequences=True))) # An LSTM Layer\n",
        "model.add(Dropout(0.2))# A dropout layer\n",
        "model.add(LSTM(100))# Another LSTM Layer)\n",
        "model.add(Dense(total_words/2, \n",
        "                activation='relu', \n",
        "                kernel_regularizer=regularizers.l2(0.01))) # A Dense Layer including regularizers\n",
        "model.add(Dense(total_words, activation='softmax'))# A Dense Layer\n",
        "\n",
        "model.compile(loss='categorical_crossentropy', \n",
        "              optimizer=Adam(lr=0.001), \n",
        "              metrics=['accuracy']) # Pick a loss function and an optimizer\n",
        "\n",
        "print(model.summary())"
      ],
      "execution_count": null,
      "outputs": [
        {
          "output_type": "stream",
          "text": [
            "Model: \"sequential\"\n",
            "_________________________________________________________________\n",
            "Layer (type)                 Output Shape              Param #   \n",
            "=================================================================\n",
            "embedding (Embedding)        (None, 10, 128)           411008    \n",
            "_________________________________________________________________\n",
            "bidirectional (Bidirectional (None, 10, 300)           334800    \n",
            "_________________________________________________________________\n",
            "dropout (Dropout)            (None, 10, 300)           0         \n",
            "_________________________________________________________________\n",
            "lstm_1 (LSTM)                (None, 100)               160400    \n",
            "_________________________________________________________________\n",
            "dense (Dense)                (None, 1605)              162105    \n",
            "_________________________________________________________________\n",
            "dense_1 (Dense)              (None, 3211)              5156866   \n",
            "=================================================================\n",
            "Total params: 6,225,179\n",
            "Trainable params: 6,225,179\n",
            "Non-trainable params: 0\n",
            "_________________________________________________________________\n",
            "None\n"
          ],
          "name": "stdout"
        }
      ]
    },
    {
      "cell_type": "code",
      "metadata": {
        "id": "AIg2f1HBxqof",
        "colab_type": "code",
        "colab": {
          "base_uri": "https://localhost:8080/",
          "height": 1000
        },
        "outputId": "50508f09-c476-481a-c2b5-037eb07c1f0b"
      },
      "source": [
        " history = model.fit(predictors, label, epochs=100, verbose=1)"
      ],
      "execution_count": null,
      "outputs": [
        {
          "output_type": "stream",
          "text": [
            "Train on 15462 samples\n",
            "Epoch 1/100\n",
            "15462/15462 [==============================] - 15s 958us/sample - loss: 6.9134 - accuracy: 0.0221\n",
            "Epoch 2/100\n",
            "15462/15462 [==============================] - 7s 467us/sample - loss: 6.4973 - accuracy: 0.0205\n",
            "Epoch 3/100\n",
            "15462/15462 [==============================] - 7s 458us/sample - loss: 6.3936 - accuracy: 0.0235\n",
            "Epoch 4/100\n",
            "15462/15462 [==============================] - 7s 456us/sample - loss: 6.2657 - accuracy: 0.0290\n",
            "Epoch 5/100\n",
            "15462/15462 [==============================] - 7s 458us/sample - loss: 6.1748 - accuracy: 0.0354\n",
            "Epoch 6/100\n",
            "15462/15462 [==============================] - 7s 461us/sample - loss: 6.0934 - accuracy: 0.0401\n",
            "Epoch 7/100\n",
            "15462/15462 [==============================] - 7s 456us/sample - loss: 6.0163 - accuracy: 0.0410\n",
            "Epoch 8/100\n",
            "15462/15462 [==============================] - 7s 451us/sample - loss: 5.9338 - accuracy: 0.0457\n",
            "Epoch 9/100\n",
            "15462/15462 [==============================] - 7s 457us/sample - loss: 5.8281 - accuracy: 0.0510\n",
            "Epoch 10/100\n",
            "15462/15462 [==============================] - 7s 455us/sample - loss: 5.7232 - accuracy: 0.0583\n",
            "Epoch 11/100\n",
            "15462/15462 [==============================] - 7s 470us/sample - loss: 5.6162 - accuracy: 0.0640\n",
            "Epoch 12/100\n",
            "15462/15462 [==============================] - 7s 462us/sample - loss: 5.5128 - accuracy: 0.0694\n",
            "Epoch 13/100\n",
            "15462/15462 [==============================] - 7s 464us/sample - loss: 5.4031 - accuracy: 0.0786\n",
            "Epoch 14/100\n",
            "15462/15462 [==============================] - 7s 458us/sample - loss: 5.2922 - accuracy: 0.0869\n",
            "Epoch 15/100\n",
            "15462/15462 [==============================] - 7s 452us/sample - loss: 5.1820 - accuracy: 0.0929\n",
            "Epoch 16/100\n",
            "15462/15462 [==============================] - 7s 455us/sample - loss: 5.0655 - accuracy: 0.1044\n",
            "Epoch 17/100\n",
            "15462/15462 [==============================] - 7s 456us/sample - loss: 4.9628 - accuracy: 0.1158\n",
            "Epoch 18/100\n",
            "15462/15462 [==============================] - 7s 456us/sample - loss: 4.8532 - accuracy: 0.1218\n",
            "Epoch 19/100\n",
            "15462/15462 [==============================] - 7s 457us/sample - loss: 4.7483 - accuracy: 0.1320\n",
            "Epoch 20/100\n",
            "15462/15462 [==============================] - 7s 464us/sample - loss: 4.6412 - accuracy: 0.1428\n",
            "Epoch 21/100\n",
            "15462/15462 [==============================] - 7s 456us/sample - loss: 4.5420 - accuracy: 0.1524\n",
            "Epoch 22/100\n",
            "15462/15462 [==============================] - 7s 457us/sample - loss: 4.4344 - accuracy: 0.1648\n",
            "Epoch 23/100\n",
            "15462/15462 [==============================] - 7s 464us/sample - loss: 4.3325 - accuracy: 0.1739\n",
            "Epoch 24/100\n",
            "15462/15462 [==============================] - 7s 482us/sample - loss: 4.2310 - accuracy: 0.1881\n",
            "Epoch 25/100\n",
            "15462/15462 [==============================] - 7s 483us/sample - loss: 4.1311 - accuracy: 0.2030\n",
            "Epoch 26/100\n",
            "15462/15462 [==============================] - 7s 461us/sample - loss: 4.0377 - accuracy: 0.2127\n",
            "Epoch 27/100\n",
            "15462/15462 [==============================] - 7s 460us/sample - loss: 3.9309 - accuracy: 0.2291\n",
            "Epoch 28/100\n",
            "15462/15462 [==============================] - 7s 467us/sample - loss: 3.8287 - accuracy: 0.2453\n",
            "Epoch 29/100\n",
            "15462/15462 [==============================] - 7s 463us/sample - loss: 3.7312 - accuracy: 0.2617\n",
            "Epoch 30/100\n",
            "15462/15462 [==============================] - 7s 470us/sample - loss: 3.6331 - accuracy: 0.2790\n",
            "Epoch 31/100\n",
            "15462/15462 [==============================] - 7s 463us/sample - loss: 3.5559 - accuracy: 0.2958\n",
            "Epoch 32/100\n",
            "15462/15462 [==============================] - 7s 458us/sample - loss: 3.4553 - accuracy: 0.3140\n",
            "Epoch 33/100\n",
            "15462/15462 [==============================] - 7s 462us/sample - loss: 3.3570 - accuracy: 0.3370\n",
            "Epoch 34/100\n",
            "15462/15462 [==============================] - 7s 458us/sample - loss: 3.2789 - accuracy: 0.3552\n",
            "Epoch 35/100\n",
            "15462/15462 [==============================] - 7s 464us/sample - loss: 3.2030 - accuracy: 0.3727\n",
            "Epoch 36/100\n",
            "15462/15462 [==============================] - 7s 465us/sample - loss: 3.1222 - accuracy: 0.3906\n",
            "Epoch 37/100\n",
            "15462/15462 [==============================] - 7s 464us/sample - loss: 3.0382 - accuracy: 0.4082\n",
            "Epoch 38/100\n",
            "15462/15462 [==============================] - 7s 456us/sample - loss: 2.9626 - accuracy: 0.4247\n",
            "Epoch 39/100\n",
            "15462/15462 [==============================] - 7s 461us/sample - loss: 2.8936 - accuracy: 0.4410\n",
            "Epoch 40/100\n",
            "15462/15462 [==============================] - 7s 459us/sample - loss: 2.8252 - accuracy: 0.4538\n",
            "Epoch 41/100\n",
            "15462/15462 [==============================] - 7s 461us/sample - loss: 2.7548 - accuracy: 0.4704\n",
            "Epoch 42/100\n",
            "15462/15462 [==============================] - 7s 460us/sample - loss: 2.6839 - accuracy: 0.4900\n",
            "Epoch 43/100\n",
            "15462/15462 [==============================] - 7s 465us/sample - loss: 2.6223 - accuracy: 0.5022\n",
            "Epoch 44/100\n",
            "15462/15462 [==============================] - 7s 458us/sample - loss: 2.5687 - accuracy: 0.5142\n",
            "Epoch 45/100\n",
            "15462/15462 [==============================] - 7s 461us/sample - loss: 2.5136 - accuracy: 0.5214\n",
            "Epoch 46/100\n",
            "15462/15462 [==============================] - 7s 469us/sample - loss: 2.4451 - accuracy: 0.5411\n",
            "Epoch 47/100\n",
            "15462/15462 [==============================] - 7s 467us/sample - loss: 2.3960 - accuracy: 0.5501\n",
            "Epoch 48/100\n",
            "15462/15462 [==============================] - 7s 462us/sample - loss: 2.3497 - accuracy: 0.5576\n",
            "Epoch 49/100\n",
            "15462/15462 [==============================] - 7s 455us/sample - loss: 2.2988 - accuracy: 0.5734\n",
            "Epoch 50/100\n",
            "15462/15462 [==============================] - 7s 463us/sample - loss: 2.2376 - accuracy: 0.5867\n",
            "Epoch 51/100\n",
            "15462/15462 [==============================] - 7s 460us/sample - loss: 2.1933 - accuracy: 0.5946\n",
            "Epoch 52/100\n",
            "15462/15462 [==============================] - 7s 458us/sample - loss: 2.1444 - accuracy: 0.6081\n",
            "Epoch 53/100\n",
            "15462/15462 [==============================] - 7s 466us/sample - loss: 2.1076 - accuracy: 0.6144\n",
            "Epoch 54/100\n",
            "15462/15462 [==============================] - 7s 470us/sample - loss: 2.0601 - accuracy: 0.6281\n",
            "Epoch 55/100\n",
            "15462/15462 [==============================] - 7s 460us/sample - loss: 2.0124 - accuracy: 0.6361\n",
            "Epoch 56/100\n",
            "15462/15462 [==============================] - 7s 461us/sample - loss: 1.9878 - accuracy: 0.6408\n",
            "Epoch 57/100\n",
            "15462/15462 [==============================] - 7s 466us/sample - loss: 1.9482 - accuracy: 0.6518\n",
            "Epoch 58/100\n",
            "15462/15462 [==============================] - 7s 468us/sample - loss: 1.9119 - accuracy: 0.6566\n",
            "Epoch 59/100\n",
            "15462/15462 [==============================] - 7s 462us/sample - loss: 1.8774 - accuracy: 0.6636\n",
            "Epoch 60/100\n",
            "15462/15462 [==============================] - 7s 460us/sample - loss: 1.8508 - accuracy: 0.6656\n",
            "Epoch 61/100\n",
            "15462/15462 [==============================] - 7s 456us/sample - loss: 1.7994 - accuracy: 0.6821\n",
            "Epoch 62/100\n",
            "15462/15462 [==============================] - 7s 463us/sample - loss: 1.7616 - accuracy: 0.6886\n",
            "Epoch 63/100\n",
            "15462/15462 [==============================] - 7s 464us/sample - loss: 1.7447 - accuracy: 0.6950\n",
            "Epoch 64/100\n",
            "15462/15462 [==============================] - 7s 456us/sample - loss: 1.7321 - accuracy: 0.6979\n",
            "Epoch 65/100\n",
            "15462/15462 [==============================] - 7s 460us/sample - loss: 1.6871 - accuracy: 0.7035\n",
            "Epoch 66/100\n",
            "15462/15462 [==============================] - 7s 457us/sample - loss: 1.6550 - accuracy: 0.7110\n",
            "Epoch 67/100\n",
            "15462/15462 [==============================] - 7s 472us/sample - loss: 1.6345 - accuracy: 0.7133\n",
            "Epoch 68/100\n",
            "15462/15462 [==============================] - 7s 483us/sample - loss: 1.6123 - accuracy: 0.7171\n",
            "Epoch 69/100\n",
            "15462/15462 [==============================] - 7s 465us/sample - loss: 1.5783 - accuracy: 0.7260\n",
            "Epoch 70/100\n",
            "15462/15462 [==============================] - 7s 456us/sample - loss: 1.5721 - accuracy: 0.7263\n",
            "Epoch 71/100\n",
            "15462/15462 [==============================] - 7s 459us/sample - loss: 1.5366 - accuracy: 0.7380\n",
            "Epoch 72/100\n",
            "15462/15462 [==============================] - 7s 452us/sample - loss: 1.5175 - accuracy: 0.7376\n",
            "Epoch 73/100\n",
            "15462/15462 [==============================] - 7s 452us/sample - loss: 1.4970 - accuracy: 0.7410\n",
            "Epoch 74/100\n",
            "15462/15462 [==============================] - 7s 456us/sample - loss: 1.4775 - accuracy: 0.7423\n",
            "Epoch 75/100\n",
            "15462/15462 [==============================] - 7s 458us/sample - loss: 1.4666 - accuracy: 0.7473\n",
            "Epoch 76/100\n",
            "15462/15462 [==============================] - 7s 464us/sample - loss: 1.4360 - accuracy: 0.7518\n",
            "Epoch 77/100\n",
            "15462/15462 [==============================] - 7s 456us/sample - loss: 1.4194 - accuracy: 0.7540\n",
            "Epoch 78/100\n",
            "15462/15462 [==============================] - 7s 455us/sample - loss: 1.4060 - accuracy: 0.7604\n",
            "Epoch 79/100\n",
            "15462/15462 [==============================] - 7s 456us/sample - loss: 1.3870 - accuracy: 0.7613\n",
            "Epoch 80/100\n",
            "15462/15462 [==============================] - 7s 464us/sample - loss: 1.3792 - accuracy: 0.7606\n",
            "Epoch 81/100\n",
            "15462/15462 [==============================] - 7s 462us/sample - loss: 1.3542 - accuracy: 0.7681\n",
            "Epoch 82/100\n",
            "15462/15462 [==============================] - 7s 455us/sample - loss: 1.3357 - accuracy: 0.7716\n",
            "Epoch 83/100\n",
            "15462/15462 [==============================] - 7s 458us/sample - loss: 1.3241 - accuracy: 0.7720\n",
            "Epoch 84/100\n",
            "15462/15462 [==============================] - 7s 454us/sample - loss: 1.3075 - accuracy: 0.7761\n",
            "Epoch 85/100\n",
            "15462/15462 [==============================] - 7s 454us/sample - loss: 1.2850 - accuracy: 0.7823\n",
            "Epoch 86/100\n",
            "15462/15462 [==============================] - 7s 461us/sample - loss: 1.2782 - accuracy: 0.7820\n",
            "Epoch 87/100\n",
            "15462/15462 [==============================] - 7s 461us/sample - loss: 1.2687 - accuracy: 0.7829\n",
            "Epoch 88/100\n",
            "15462/15462 [==============================] - 7s 462us/sample - loss: 1.2763 - accuracy: 0.7793\n",
            "Epoch 89/100\n",
            "15462/15462 [==============================] - 7s 461us/sample - loss: 1.2361 - accuracy: 0.7887\n",
            "Epoch 90/100\n",
            "15462/15462 [==============================] - 7s 463us/sample - loss: 1.2197 - accuracy: 0.7873\n",
            "Epoch 91/100\n",
            "15462/15462 [==============================] - 7s 465us/sample - loss: 1.2018 - accuracy: 0.7955\n",
            "Epoch 92/100\n",
            "15462/15462 [==============================] - 7s 468us/sample - loss: 1.2056 - accuracy: 0.7932\n",
            "Epoch 93/100\n",
            "15462/15462 [==============================] - 7s 461us/sample - loss: 1.1900 - accuracy: 0.7944\n",
            "Epoch 94/100\n",
            "15462/15462 [==============================] - 7s 461us/sample - loss: 1.1902 - accuracy: 0.7920\n",
            "Epoch 95/100\n",
            "15462/15462 [==============================] - 7s 460us/sample - loss: 1.1777 - accuracy: 0.7960\n",
            "Epoch 96/100\n",
            "15462/15462 [==============================] - 7s 469us/sample - loss: 1.1701 - accuracy: 0.7981\n",
            "Epoch 97/100\n",
            "15462/15462 [==============================] - 7s 465us/sample - loss: 1.1497 - accuracy: 0.8029\n",
            "Epoch 98/100\n",
            "15462/15462 [==============================] - 7s 460us/sample - loss: 1.1358 - accuracy: 0.8025\n",
            "Epoch 99/100\n",
            "15462/15462 [==============================] - 7s 457us/sample - loss: 1.1358 - accuracy: 0.8022\n",
            "Epoch 100/100\n",
            "15462/15462 [==============================] - 7s 457us/sample - loss: 1.1149 - accuracy: 0.8064\n"
          ],
          "name": "stdout"
        }
      ]
    },
    {
      "cell_type": "code",
      "metadata": {
        "id": "1fXTEO3GJ282",
        "colab_type": "code",
        "colab": {
          "base_uri": "https://localhost:8080/",
          "height": 545
        },
        "outputId": "981ebe80-6a52-498a-d60e-7383d9341f82"
      },
      "source": [
        "import matplotlib.pyplot as plt\n",
        "acc = history.history['accuracy']\n",
        "loss = history.history['loss']\n",
        "\n",
        "epochs = range(len(acc))\n",
        "\n",
        "plt.plot(epochs, acc, 'b', label='Training accuracy')\n",
        "plt.title('Training accuracy')\n",
        "\n",
        "plt.figure()\n",
        "\n",
        "plt.plot(epochs, loss, 'b', label='Training Loss')\n",
        "plt.title('Training loss')\n",
        "plt.legend()\n",
        "\n",
        "plt.show()"
      ],
      "execution_count": null,
      "outputs": [
        {
          "output_type": "display_data",
          "data": {
            "image/png": "[encoded data removed]",
            "text/plain": [
              "<Figure size 432x288 with 1 Axes>"
            ]
          },
          "metadata": {
            "tags": []
          }
        },
        {
          "output_type": "display_data",
          "data": {
            "image/png": "[encoded data removed]",
            "text/plain": [
              "<Figure size 432x288 with 1 Axes>"
            ]
          },
          "metadata": {
            "tags": []
          }
        }
      ]
    },
    {
      "cell_type": "code",
      "metadata": {
        "id": "6Vc6PHgxa6Hm",
        "colab_type": "code",
        "colab": {
          "base_uri": "https://localhost:8080/",
          "height": 55
        },
        "outputId": "add32faa-29e4-4e8d-d4a4-08c5f8160a00"
      },
      "source": [
        "# seed_text = \"Help me Obi Wan Kenobi, you're my only hope\"\n",
        "seed_text = \"Hello darkness my old friend\"\n",
        "next_words = 100\n",
        "  \n",
        "for _ in range(next_words):\n",
        "\ttoken_list = tokenizer.texts_to_sequences([seed_text])[0]\n",
        "\ttoken_list = pad_sequences([token_list], maxlen=max_sequence_len-1, padding='pre')\n",
        "\tpredicted = model.predict_classes(token_list, verbose=0)\n",
        "\toutput_word = \"\"\n",
        "    \n",
        "\tfor word, index in tokenizer.word_index.items():\n",
        "\t\tif index == predicted:\n",
        "\t\t\toutput_word = word\n",
        "\t\t\tbreak\n",
        "\tseed_text += \" \" + output_word\n",
        "    \n",
        "print(seed_text)"
      ],
      "execution_count": null,
      "outputs": [
        {
          "output_type": "stream",
          "text": [
            "Hello darkness my old friend from his truth is wrong tongue form torn mother express'd sit sit friend to show thee new still be to love should make her 'will' in approve her due on many every rare rare free bevel lie me still find thee long things took the heart of date days still eyed mother gone meet still still ever things his grief still make ill ' still shows show me ill to thee was him then worthy know i live as be away men's well shows bear youth born to die die die die me till him happy groan ' are no\n"
          ],
          "name": "stdout"
        }
      ]
    }
  ]
}
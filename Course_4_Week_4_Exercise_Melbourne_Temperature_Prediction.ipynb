{
  "nbformat": 4,
  "nbformat_minor": 0,
  "metadata": {
    "colab": {
      "name": "Course 4 - Week 4 - Exercise - Melbourne Temperature Prediction.ipynb",
      "provenance": [],
      "collapsed_sections": [],
      "include_colab_link": true
    },
    "kernelspec": {
      "name": "python3",
      "display_name": "Python 3"
    },
    "accelerator": "GPU"
  },
  "cells": [
    {
      "cell_type": "markdown",
      "metadata": {
        "id": "view-in-github",
        "colab_type": "text"
      },
      "source": [
        "<a href=\"https://colab.research.google.com/github/jackiekuen2/coursera-tensorflow/blob/master/Course_4_Week_4_Exercise_Melbourne_Temperature_Prediction.ipynb\" target=\"_parent\"><img src=\"https://colab.research.google.com/assets/colab-badge.svg\" alt=\"Open In Colab\"/></a>"
      ]
    },
    {
      "cell_type": "code",
      "metadata": {
        "id": "GNkzTFfynsmV",
        "colab_type": "code",
        "colab": {
          "base_uri": "https://localhost:8080/",
          "height": 538
        },
        "outputId": "48ada1de-5477-407b-8415-d516926dbc6f"
      },
      "source": [
        "# !pip install tensorflow==2.0.0b1\n",
        "!pip install tensorflow-gpu==2.0.0-rc1"
      ],
      "execution_count": null,
      "outputs": [
        {
          "output_type": "stream",
          "text": [
            "Collecting tensorflow-gpu==2.0.0-rc1\n",
            "\u001b[?25l  Downloading https://files.pythonhosted.org/packages/73/cf/2fc69ba3e59edc8333e2676fa71b40197718dea7dc1282c79955cf6b2acb/tensorflow_gpu-2.0.0rc1-cp36-cp36m-manylinux2010_x86_64.whl (380.5MB)\n",
            "\u001b[K     |████████████████████████████████| 380.5MB 52kB/s \n",
            "\u001b[?25hRequirement already satisfied: keras-applications>=1.0.8 in /usr/local/lib/python3.6/dist-packages (from tensorflow-gpu==2.0.0-rc1) (1.0.8)\n",
            "Requirement already satisfied: six>=1.10.0 in /usr/local/lib/python3.6/dist-packages (from tensorflow-gpu==2.0.0-rc1) (1.12.0)\n",
            "Requirement already satisfied: grpcio>=1.8.6 in /usr/local/lib/python3.6/dist-packages (from tensorflow-gpu==2.0.0-rc1) (1.15.0)\n",
            "Requirement already satisfied: wheel>=0.26 in /usr/local/lib/python3.6/dist-packages (from tensorflow-gpu==2.0.0-rc1) (0.33.6)\n",
            "Requirement already satisfied: termcolor>=1.1.0 in /usr/local/lib/python3.6/dist-packages (from tensorflow-gpu==2.0.0-rc1) (1.1.0)\n",
            "Requirement already satisfied: keras-preprocessing>=1.0.5 in /usr/local/lib/python3.6/dist-packages (from tensorflow-gpu==2.0.0-rc1) (1.1.0)\n",
            "Requirement already satisfied: astor>=0.6.0 in /usr/local/lib/python3.6/dist-packages (from tensorflow-gpu==2.0.0-rc1) (0.8.0)\n",
            "Requirement already satisfied: gast>=0.2.0 in /usr/local/lib/python3.6/dist-packages (from tensorflow-gpu==2.0.0-rc1) (0.2.2)\n",
            "Collecting tb-nightly<1.15.0a20190807,>=1.15.0a20190806 (from tensorflow-gpu==2.0.0-rc1)\n",
            "\u001b[?25l  Downloading https://files.pythonhosted.org/packages/bc/88/24b5fb7280e74c7cf65bde47c171547fd02afb3840cff41bcbe9270650f5/tb_nightly-1.15.0a20190806-py3-none-any.whl (4.3MB)\n",
            "\u001b[K     |████████████████████████████████| 4.3MB 53.9MB/s \n",
            "\u001b[?25hRequirement already satisfied: wrapt>=1.11.1 in /usr/local/lib/python3.6/dist-packages (from tensorflow-gpu==2.0.0-rc1) (1.11.2)\n",
            "Collecting tf-estimator-nightly<1.14.0.dev2019080602,>=1.14.0.dev2019080601 (from tensorflow-gpu==2.0.0-rc1)\n",
            "\u001b[?25l  Downloading https://files.pythonhosted.org/packages/21/28/f2a27a62943d5f041e4a6fd404b2d21cb7c59b2242a4e73b03d9ba166552/tf_estimator_nightly-1.14.0.dev2019080601-py2.py3-none-any.whl (501kB)\n",
            "\u001b[K     |████████████████████████████████| 501kB 50.5MB/s \n",
            "\u001b[?25hRequirement already satisfied: absl-py>=0.7.0 in /usr/local/lib/python3.6/dist-packages (from tensorflow-gpu==2.0.0-rc1) (0.8.0)\n",
            "Requirement already satisfied: numpy<2.0,>=1.16.0 in /usr/local/lib/python3.6/dist-packages (from tensorflow-gpu==2.0.0-rc1) (1.16.5)\n",
            "Requirement already satisfied: google-pasta>=0.1.6 in /usr/local/lib/python3.6/dist-packages (from tensorflow-gpu==2.0.0-rc1) (0.1.7)\n",
            "Requirement already satisfied: opt-einsum>=2.3.2 in /usr/local/lib/python3.6/dist-packages (from tensorflow-gpu==2.0.0-rc1) (3.0.1)\n",
            "Requirement already satisfied: protobuf>=3.6.1 in /usr/local/lib/python3.6/dist-packages (from tensorflow-gpu==2.0.0-rc1) (3.7.1)\n",
            "Requirement already satisfied: h5py in /usr/local/lib/python3.6/dist-packages (from keras-applications>=1.0.8->tensorflow-gpu==2.0.0-rc1) (2.8.0)\n",
            "Requirement already satisfied: werkzeug>=0.11.15 in /usr/local/lib/python3.6/dist-packages (from tb-nightly<1.15.0a20190807,>=1.15.0a20190806->tensorflow-gpu==2.0.0-rc1) (0.15.6)\n",
            "Requirement already satisfied: setuptools>=41.0.0 in /usr/local/lib/python3.6/dist-packages (from tb-nightly<1.15.0a20190807,>=1.15.0a20190806->tensorflow-gpu==2.0.0-rc1) (41.2.0)\n",
            "Requirement already satisfied: markdown>=2.6.8 in /usr/local/lib/python3.6/dist-packages (from tb-nightly<1.15.0a20190807,>=1.15.0a20190806->tensorflow-gpu==2.0.0-rc1) (3.1.1)\n",
            "Installing collected packages: tb-nightly, tf-estimator-nightly, tensorflow-gpu\n",
            "Successfully installed tb-nightly-1.15.0a20190806 tensorflow-gpu-2.0.0rc1 tf-estimator-nightly-1.14.0.dev2019080601\n"
          ],
          "name": "stdout"
        }
      ]
    },
    {
      "cell_type": "code",
      "metadata": {
        "id": "56XEQOGknrAk",
        "colab_type": "code",
        "colab": {
          "base_uri": "https://localhost:8080/",
          "height": 35
        },
        "outputId": "9f725124-9a8b-4660-b558-1cdcbc458ae7"
      },
      "source": [
        "import tensorflow as tf\n",
        "print(tf.__version__)"
      ],
      "execution_count": null,
      "outputs": [
        {
          "output_type": "stream",
          "text": [
            "2.0.0-rc1\n"
          ],
          "name": "stdout"
        }
      ]
    },
    {
      "cell_type": "code",
      "metadata": {
        "id": "sLl52leVp5wU",
        "colab_type": "code",
        "colab": {}
      },
      "source": [
        "import numpy as np\n",
        "import matplotlib.pyplot as plt\n",
        "def plot_series(time, series, format=\"-\", start=0, end=None):\n",
        "    plt.plot(time[start:end], series[start:end], format)\n",
        "    plt.xlabel(\"Time\")\n",
        "    plt.ylabel(\"Value\")\n",
        "    plt.grid(True)"
      ],
      "execution_count": null,
      "outputs": []
    },
    {
      "cell_type": "code",
      "metadata": {
        "id": "tP7oqUdkk0gY",
        "colab_type": "code",
        "colab": {
          "base_uri": "https://localhost:8080/",
          "height": 207
        },
        "outputId": "d743c1bb-5017-488c-d899-5e7005fe501c"
      },
      "source": [
        "!wget --no-check-certificate \\\n",
        "    https://raw.githubusercontent.com/jbrownlee/Datasets/master/daily-min-temperatures.csv \\\n",
        "    -O /tmp/daily-min-temperatures.csv"
      ],
      "execution_count": null,
      "outputs": [
        {
          "output_type": "stream",
          "text": [
            "--2019-09-15 17:29:34--  https://raw.githubusercontent.com/jbrownlee/Datasets/master/daily-min-temperatures.csv\n",
            "Resolving raw.githubusercontent.com (raw.githubusercontent.com)... 151.101.0.133, 151.101.64.133, 151.101.128.133, ...\n",
            "Connecting to raw.githubusercontent.com (raw.githubusercontent.com)|151.101.0.133|:443... connected.\n",
            "HTTP request sent, awaiting response... 200 OK\n",
            "Length: 67921 (66K) [text/plain]\n",
            "Saving to: ‘/tmp/daily-min-temperatures.csv’\n",
            "\n",
            "\r          /tmp/dail   0%[                    ]       0  --.-KB/s               \r/tmp/daily-min-temp 100%[===================>]  66.33K  --.-KB/s    in 0.001s  \n",
            "\n",
            "2019-09-15 17:29:34 (56.6 MB/s) - ‘/tmp/daily-min-temperatures.csv’ saved [67921/67921]\n",
            "\n"
          ],
          "name": "stdout"
        }
      ]
    },
    {
      "cell_type": "code",
      "metadata": {
        "id": "7yBvsmcU4Bok",
        "colab_type": "code",
        "colab": {}
      },
      "source": [
        "import pandas as pd\n",
        "\n",
        "data = pd.read_csv('/tmp/daily-min-temperatures.csv')"
      ],
      "execution_count": null,
      "outputs": []
    },
    {
      "cell_type": "code",
      "metadata": {
        "id": "bI9AzOgE4MnM",
        "colab_type": "code",
        "colab": {
          "base_uri": "https://localhost:8080/",
          "height": 198
        },
        "outputId": "10145e2d-35aa-4863-fd09-8706142cbd29"
      },
      "source": [
        "data.head()"
      ],
      "execution_count": null,
      "outputs": [
        {
          "output_type": "execute_result",
          "data": {
            "text/html": [
              "<div>\n",
              "<style scoped>\n",
              "    .dataframe tbody tr th:only-of-type {\n",
              "        vertical-align: middle;\n",
              "    }\n",
              "\n",
              "    .dataframe tbody tr th {\n",
              "        vertical-align: top;\n",
              "    }\n",
              "\n",
              "    .dataframe thead th {\n",
              "        text-align: right;\n",
              "    }\n",
              "</style>\n",
              "<table border=\"1\" class=\"dataframe\">\n",
              "  <thead>\n",
              "    <tr style=\"text-align: right;\">\n",
              "      <th></th>\n",
              "      <th>Date</th>\n",
              "      <th>Temp</th>\n",
              "    </tr>\n",
              "  </thead>\n",
              "  <tbody>\n",
              "    <tr>\n",
              "      <th>0</th>\n",
              "      <td>1981-01-01</td>\n",
              "      <td>20.7</td>\n",
              "    </tr>\n",
              "    <tr>\n",
              "      <th>1</th>\n",
              "      <td>1981-01-02</td>\n",
              "      <td>17.9</td>\n",
              "    </tr>\n",
              "    <tr>\n",
              "      <th>2</th>\n",
              "      <td>1981-01-03</td>\n",
              "      <td>18.8</td>\n",
              "    </tr>\n",
              "    <tr>\n",
              "      <th>3</th>\n",
              "      <td>1981-01-04</td>\n",
              "      <td>14.6</td>\n",
              "    </tr>\n",
              "    <tr>\n",
              "      <th>4</th>\n",
              "      <td>1981-01-05</td>\n",
              "      <td>15.8</td>\n",
              "    </tr>\n",
              "  </tbody>\n",
              "</table>\n",
              "</div>"
            ],
            "text/plain": [
              "         Date  Temp\n",
              "0  1981-01-01  20.7\n",
              "1  1981-01-02  17.9\n",
              "2  1981-01-03  18.8\n",
              "3  1981-01-04  14.6\n",
              "4  1981-01-05  15.8"
            ]
          },
          "metadata": {
            "tags": []
          },
          "execution_count": 7
        }
      ]
    },
    {
      "cell_type": "code",
      "metadata": {
        "id": "NcG9r1eClbTh",
        "colab_type": "code",
        "colab": {
          "base_uri": "https://localhost:8080/",
          "height": 392
        },
        "outputId": "ca8eec83-5d53-45b7-e31b-5d18773aa069"
      },
      "source": [
        "import csv\n",
        "time_step = []\n",
        "temps = []\n",
        "\n",
        "with open('/tmp/daily-min-temperatures.csv') as csvfile:\n",
        "    reader = csv.reader(csvfile, delimiter=',')\n",
        "    next(reader)\n",
        "\n",
        "    step = 0\n",
        "    for row in reader:\n",
        "        temps.append(float(row[1]))\n",
        "        time_step.append(step)\n",
        "        step += 1\n",
        "\n",
        "# YOUR CODE HERE. READ TEMPERATURES INTO TEMPS\n",
        "# HAVE TIME STEPS BE A SIMPLE ARRAY OF 1, 2, 3, 4 etc\n",
        "\n",
        "series = np.array(temps)\n",
        "time = np.array(time_step)\n",
        "plt.figure(figsize=(10, 6))\n",
        "plot_series(time, series)"
      ],
      "execution_count": null,
      "outputs": [
        {
          "output_type": "display_data",
          "data": {
            "image/png": "[encoded data removed]",
            "text/plain": [
              "<Figure size 720x432 with 1 Axes>"
            ]
          },
          "metadata": {
            "tags": []
          }
        }
      ]
    },
    {
      "cell_type": "code",
      "metadata": {
        "id": "Sqs2-b9D4YkE",
        "colab_type": "code",
        "colab": {
          "base_uri": "https://localhost:8080/",
          "height": 35
        },
        "outputId": "0e903ef7-a7db-4e21-dc35-ab1a8f67e8ee"
      },
      "source": [
        "len(temps)"
      ],
      "execution_count": null,
      "outputs": [
        {
          "output_type": "execute_result",
          "data": {
            "text/plain": [
              "3650"
            ]
          },
          "metadata": {
            "tags": []
          },
          "execution_count": 10
        }
      ]
    },
    {
      "cell_type": "code",
      "metadata": {
        "id": "L92YRw_IpCFG",
        "colab_type": "code",
        "colab": {}
      },
      "source": [
        "split_time = 3000\n",
        "time_train = time[:split_time]\n",
        "x_train = series[:split_time]\n",
        "\n",
        "time_valid = time[split_time:]\n",
        "x_valid = series[split_time:]\n",
        "\n",
        "window_size = 30\n",
        "batch_size = 32\n",
        "shuffle_buffer_size = 1000"
      ],
      "execution_count": null,
      "outputs": []
    },
    {
      "cell_type": "code",
      "metadata": {
        "id": "lJwUUZscnG38",
        "colab_type": "code",
        "colab": {}
      },
      "source": [
        "def windowed_dataset(series, window_size, batch_size, shuffle_buffer):\n",
        "    # YOUR CODE HERE\n",
        "    series = tf.expand_dims(series, axis=-1)\n",
        "    dataset = tf.data.Dataset.from_tensor_slices(series)\n",
        "    dataset = dataset.window(window_size+1, shift=1, drop_remainder=True)\n",
        "    dataset = dataset.flat_map(lambda window: window.batch(window_size+1))\n",
        "    dataset = dataset.shuffle(shuffle_buffer).map(lambda window: (window[:-1], window[-1]))\n",
        "    dataset = dataset.batch(batch_size).prefetch(1)\n",
        "    return dataset"
      ],
      "execution_count": null,
      "outputs": []
    },
    {
      "cell_type": "code",
      "metadata": {
        "id": "4XwGrf-A_wF0",
        "colab_type": "code",
        "colab": {}
      },
      "source": [
        "def model_forecast(model, series, window_size):\n",
        "    # YOUR CODE HERE\n",
        "    ds = tf.data.Dataset.from_tensor_slices(series)\n",
        "    ds = ds.window(window_size, shift=1, drop_remainder=True)\n",
        "    ds = ds.flat_map(lambda w: w.batch(window_size+1))\n",
        "    ds = ds.batch(32).prefetch(1)\n",
        "    forecast = model.predict(ds)\n",
        "    return forecast"
      ],
      "execution_count": null,
      "outputs": []
    },
    {
      "cell_type": "code",
      "metadata": {
        "id": "AclfYY3Mn6Ph",
        "colab_type": "code",
        "colab": {
          "base_uri": "https://localhost:8080/",
          "height": 1000
        },
        "outputId": "048496e5-fe0c-4415-9424-ebfb16adb941"
      },
      "source": [
        "tf.keras.backend.clear_session()\n",
        "tf.random.set_seed(51)\n",
        "np.random.seed(51)\n",
        "window_size = 64\n",
        "batch_size = 256\n",
        "train_set = windowed_dataset(x_train, window_size, batch_size, shuffle_buffer_size)\n",
        "print(train_set)\n",
        "print(x_train.shape)\n",
        "\n",
        "model = tf.keras.models.Sequential([\n",
        "    # YOUR CODE HERE\n",
        "    tf.keras.layers.Conv1D(filters=32, kernel_size=5, strides=1, \n",
        "                           padding=\"causal\", activation=\"relu\", \n",
        "                           input_shape=[None, 1]),\n",
        "  \ttf.keras.layers.LSTM(64, return_sequences=True),\n",
        "\ttf.keras.layers.LSTM(64, return_sequences=True),\n",
        "  \ttf.keras.layers.Dense(30, activation=\"relu\"),\n",
        "  \ttf.keras.layers.Dense(10, activation=\"relu\"),\n",
        "  \ttf.keras.layers.Dense(1),\n",
        "  \ttf.keras.layers.Lambda(lambda x: x * 100) \n",
        "])\n",
        "\n",
        "lr_schedule = tf.keras.callbacks.LearningRateScheduler(lambda epoch: 1e-8 * 10**(epoch / 20))\n",
        "\n",
        "optimizer = tf.keras.optimizers.SGD(lr=1e-8, momentum=0.9)\n",
        "\n",
        "model.compile(loss=tf.keras.losses.Huber(), optimizer=optimizer, metrics=[\"mae\"])\n",
        "\n",
        "history = model.fit(train_set, epochs=100, callbacks=[lr_schedule])"
      ],
      "execution_count": null,
      "outputs": [
        {
          "output_type": "stream",
          "text": [
            "<PrefetchDataset shapes: ((None, None, 1), (None, 1)), types: (tf.float64, tf.float64)>\n",
            "(3000,)\n",
            "Epoch 1/100\n",
            "12/12 [==============================] - 7s 583ms/step - loss: 15.9590 - mae: 16.4412\n",
            "Epoch 2/100\n",
            "12/12 [==============================] - 0s 38ms/step - loss: 15.8604 - mae: 16.3933\n",
            "Epoch 3/100\n",
            "12/12 [==============================] - 0s 39ms/step - loss: 15.8135 - mae: 16.3225\n",
            "Epoch 4/100\n",
            "12/12 [==============================] - 0s 39ms/step - loss: 15.7173 - mae: 16.2379\n",
            "Epoch 5/100\n",
            "12/12 [==============================] - 0s 38ms/step - loss: 15.5976 - mae: 16.1403\n",
            "Epoch 6/100\n",
            "12/12 [==============================] - 0s 37ms/step - loss: 15.5064 - mae: 16.0286\n",
            "Epoch 7/100\n",
            "12/12 [==============================] - 0s 41ms/step - loss: 15.3481 - mae: 15.9009\n",
            "Epoch 8/100\n",
            "12/12 [==============================] - 0s 40ms/step - loss: 15.2352 - mae: 15.7538\n",
            "Epoch 9/100\n",
            "12/12 [==============================] - 0s 39ms/step - loss: 15.0692 - mae: 15.5830\n",
            "Epoch 10/100\n",
            "12/12 [==============================] - 0s 41ms/step - loss: 14.8945 - mae: 15.3813\n",
            "Epoch 11/100\n",
            "12/12 [==============================] - 0s 39ms/step - loss: 14.6178 - mae: 15.1391\n",
            "Epoch 12/100\n",
            "12/12 [==============================] - 0s 41ms/step - loss: 14.3336 - mae: 14.8441\n",
            "Epoch 13/100\n",
            "12/12 [==============================] - 1s 42ms/step - loss: 13.9352 - mae: 14.4812\n",
            "Epoch 14/100\n",
            "12/12 [==============================] - 0s 39ms/step - loss: 13.5260 - mae: 14.0272\n",
            "Epoch 15/100\n",
            "12/12 [==============================] - 0s 42ms/step - loss: 12.9526 - mae: 13.4585\n",
            "Epoch 16/100\n",
            "12/12 [==============================] - 0s 40ms/step - loss: 12.2662 - mae: 12.7651\n",
            "Epoch 17/100\n",
            "12/12 [==============================] - 0s 40ms/step - loss: 11.4429 - mae: 11.9466\n",
            "Epoch 18/100\n",
            "12/12 [==============================] - 0s 41ms/step - loss: 10.5029 - mae: 11.0251\n",
            "Epoch 19/100\n",
            "12/12 [==============================] - 1s 43ms/step - loss: 9.5446 - mae: 10.0254\n",
            "Epoch 20/100\n",
            "12/12 [==============================] - 1s 43ms/step - loss: 8.4611 - mae: 8.9572\n",
            "Epoch 21/100\n",
            "12/12 [==============================] - 0s 41ms/step - loss: 7.3549 - mae: 7.8313\n",
            "Epoch 22/100\n",
            "12/12 [==============================] - 1s 43ms/step - loss: 6.2209 - mae: 6.6887\n",
            "Epoch 23/100\n",
            "12/12 [==============================] - 0s 41ms/step - loss: 5.1034 - mae: 5.5889\n",
            "Epoch 24/100\n",
            "12/12 [==============================] - 0s 39ms/step - loss: 4.1432 - mae: 4.6345\n",
            "Epoch 25/100\n",
            "12/12 [==============================] - 0s 41ms/step - loss: 3.4564 - mae: 3.9091\n",
            "Epoch 26/100\n",
            "12/12 [==============================] - 0s 40ms/step - loss: 3.0049 - mae: 3.4645\n",
            "Epoch 27/100\n",
            "12/12 [==============================] - 1s 42ms/step - loss: 2.8038 - mae: 3.2683\n",
            "Epoch 28/100\n",
            "12/12 [==============================] - 1s 43ms/step - loss: 2.7368 - mae: 3.1932\n",
            "Epoch 29/100\n",
            "12/12 [==============================] - 1s 42ms/step - loss: 2.7084 - mae: 3.1657\n",
            "Epoch 30/100\n",
            "12/12 [==============================] - 1s 42ms/step - loss: 2.6897 - mae: 3.1410\n",
            "Epoch 31/100\n",
            "12/12 [==============================] - 1s 43ms/step - loss: 2.6511 - mae: 3.1160\n",
            "Epoch 32/100\n",
            "12/12 [==============================] - 0s 41ms/step - loss: 2.6223 - mae: 3.0916\n",
            "Epoch 33/100\n",
            "12/12 [==============================] - 0s 40ms/step - loss: 2.5978 - mae: 3.0681\n",
            "Epoch 34/100\n",
            "12/12 [==============================] - 0s 40ms/step - loss: 2.5741 - mae: 3.0469\n",
            "Epoch 35/100\n",
            "12/12 [==============================] - 1s 43ms/step - loss: 2.5653 - mae: 3.0275\n",
            "Epoch 36/100\n",
            "12/12 [==============================] - 1s 42ms/step - loss: 2.5465 - mae: 3.0101\n",
            "Epoch 37/100\n",
            "12/12 [==============================] - 1s 42ms/step - loss: 2.5314 - mae: 2.9946\n",
            "Epoch 38/100\n",
            "12/12 [==============================] - 0s 41ms/step - loss: 2.5227 - mae: 2.9788\n",
            "Epoch 39/100\n",
            "12/12 [==============================] - 0s 41ms/step - loss: 2.5157 - mae: 2.9659\n",
            "Epoch 40/100\n",
            "12/12 [==============================] - 0s 40ms/step - loss: 2.4929 - mae: 2.9550\n",
            "Epoch 41/100\n",
            "12/12 [==============================] - 0s 40ms/step - loss: 2.4732 - mae: 2.9424\n",
            "Epoch 42/100\n",
            "12/12 [==============================] - 0s 41ms/step - loss: 2.4635 - mae: 2.9315\n",
            "Epoch 43/100\n",
            "12/12 [==============================] - 0s 40ms/step - loss: 2.4690 - mae: 2.9231\n",
            "Epoch 44/100\n",
            "12/12 [==============================] - 1s 42ms/step - loss: 2.4499 - mae: 2.9107\n",
            "Epoch 45/100\n",
            "12/12 [==============================] - 0s 41ms/step - loss: 2.4518 - mae: 2.9007\n",
            "Epoch 46/100\n",
            "12/12 [==============================] - 0s 40ms/step - loss: 2.4370 - mae: 2.8893\n",
            "Epoch 47/100\n",
            "12/12 [==============================] - 0s 40ms/step - loss: 2.4089 - mae: 2.8815\n",
            "Epoch 48/100\n",
            "12/12 [==============================] - 0s 41ms/step - loss: 2.4032 - mae: 2.8675\n",
            "Epoch 49/100\n",
            "12/12 [==============================] - 0s 41ms/step - loss: 2.4040 - mae: 2.8635\n",
            "Epoch 50/100\n",
            "12/12 [==============================] - 1s 42ms/step - loss: 2.3917 - mae: 2.8434\n",
            "Epoch 51/100\n",
            "12/12 [==============================] - 0s 41ms/step - loss: 2.3850 - mae: 2.8453\n",
            "Epoch 52/100\n",
            "12/12 [==============================] - 0s 41ms/step - loss: 2.3652 - mae: 2.8273\n",
            "Epoch 53/100\n",
            "12/12 [==============================] - 1s 43ms/step - loss: 2.3423 - mae: 2.8133\n",
            "Epoch 54/100\n",
            "12/12 [==============================] - 1s 43ms/step - loss: 2.3399 - mae: 2.8079\n",
            "Epoch 55/100\n",
            "12/12 [==============================] - 0s 41ms/step - loss: 2.3328 - mae: 2.8001\n",
            "Epoch 56/100\n",
            "12/12 [==============================] - 0s 41ms/step - loss: 2.3278 - mae: 2.7953\n",
            "Epoch 57/100\n",
            "12/12 [==============================] - 0s 39ms/step - loss: 2.3416 - mae: 2.7973\n",
            "Epoch 58/100\n",
            "12/12 [==============================] - 0s 41ms/step - loss: 2.3474 - mae: 2.7972\n",
            "Epoch 59/100\n",
            "12/12 [==============================] - 0s 42ms/step - loss: 2.3536 - mae: 2.8147\n",
            "Epoch 60/100\n",
            "12/12 [==============================] - 1s 43ms/step - loss: 2.3422 - mae: 2.7961\n",
            "Epoch 61/100\n",
            "12/12 [==============================] - 1s 42ms/step - loss: 2.3143 - mae: 2.7664\n",
            "Epoch 62/100\n",
            "12/12 [==============================] - 0s 41ms/step - loss: 2.2866 - mae: 2.7448\n",
            "Epoch 63/100\n",
            "12/12 [==============================] - 0s 40ms/step - loss: 2.2896 - mae: 2.7544\n",
            "Epoch 64/100\n",
            "12/12 [==============================] - 0s 41ms/step - loss: 2.2479 - mae: 2.7054\n",
            "Epoch 65/100\n",
            "12/12 [==============================] - 0s 40ms/step - loss: 2.2587 - mae: 2.7197\n",
            "Epoch 66/100\n",
            "12/12 [==============================] - 1s 43ms/step - loss: 2.2330 - mae: 2.6892\n",
            "Epoch 67/100\n",
            "12/12 [==============================] - 0s 40ms/step - loss: 2.2246 - mae: 2.6841\n",
            "Epoch 68/100\n",
            "12/12 [==============================] - 1s 42ms/step - loss: 2.2471 - mae: 2.7034\n",
            "Epoch 69/100\n",
            "12/12 [==============================] - 0s 40ms/step - loss: 2.2267 - mae: 2.6781\n",
            "Epoch 70/100\n",
            "12/12 [==============================] - 1s 43ms/step - loss: 2.2119 - mae: 2.6800\n",
            "Epoch 71/100\n",
            "12/12 [==============================] - 0s 40ms/step - loss: 2.2007 - mae: 2.6619\n",
            "Epoch 72/100\n",
            "12/12 [==============================] - 0s 38ms/step - loss: 2.2622 - mae: 2.7214\n",
            "Epoch 73/100\n",
            "12/12 [==============================] - 0s 41ms/step - loss: 2.3127 - mae: 2.7662\n",
            "Epoch 74/100\n",
            "12/12 [==============================] - 0s 41ms/step - loss: 2.3243 - mae: 2.7866\n",
            "Epoch 75/100\n",
            "12/12 [==============================] - 0s 41ms/step - loss: 2.2417 - mae: 2.6999\n",
            "Epoch 76/100\n",
            "12/12 [==============================] - 1s 43ms/step - loss: 2.2470 - mae: 2.7132\n",
            "Epoch 77/100\n",
            "12/12 [==============================] - 0s 40ms/step - loss: 2.2037 - mae: 2.6631\n",
            "Epoch 78/100\n",
            "12/12 [==============================] - 0s 39ms/step - loss: 2.2370 - mae: 2.6854\n",
            "Epoch 79/100\n",
            "12/12 [==============================] - 0s 40ms/step - loss: 2.2987 - mae: 2.7555\n",
            "Epoch 80/100\n",
            "12/12 [==============================] - 0s 39ms/step - loss: 2.3786 - mae: 2.8409\n",
            "Epoch 81/100\n",
            "12/12 [==============================] - 0s 41ms/step - loss: 2.4041 - mae: 2.8637\n",
            "Epoch 82/100\n",
            "12/12 [==============================] - 1s 42ms/step - loss: 2.2739 - mae: 2.7208\n",
            "Epoch 83/100\n",
            "12/12 [==============================] - 0s 40ms/step - loss: 2.2952 - mae: 2.7526\n",
            "Epoch 84/100\n",
            "12/12 [==============================] - 0s 39ms/step - loss: 2.2761 - mae: 2.7430\n",
            "Epoch 85/100\n",
            "12/12 [==============================] - 0s 41ms/step - loss: 2.6310 - mae: 3.0733\n",
            "Epoch 86/100\n",
            "12/12 [==============================] - 0s 40ms/step - loss: 2.5575 - mae: 3.0107\n",
            "Epoch 87/100\n",
            "12/12 [==============================] - 0s 41ms/step - loss: 2.2611 - mae: 2.7279\n",
            "Epoch 88/100\n",
            "12/12 [==============================] - 0s 40ms/step - loss: 2.2836 - mae: 2.7404\n",
            "Epoch 89/100\n",
            "12/12 [==============================] - 0s 41ms/step - loss: 2.2595 - mae: 2.7212\n",
            "Epoch 90/100\n",
            "12/12 [==============================] - 0s 41ms/step - loss: 2.6752 - mae: 3.1469\n",
            "Epoch 91/100\n",
            "12/12 [==============================] - 1s 44ms/step - loss: 2.5610 - mae: 3.0039\n",
            "Epoch 92/100\n",
            "12/12 [==============================] - 0s 40ms/step - loss: 2.3534 - mae: 2.8124\n",
            "Epoch 93/100\n",
            "12/12 [==============================] - 1s 44ms/step - loss: 2.4931 - mae: 2.9358\n",
            "Epoch 94/100\n",
            "12/12 [==============================] - 1s 43ms/step - loss: 2.3178 - mae: 2.7757\n",
            "Epoch 95/100\n",
            "12/12 [==============================] - 0s 41ms/step - loss: 2.3453 - mae: 2.8148\n",
            "Epoch 96/100\n",
            "12/12 [==============================] - 0s 41ms/step - loss: 2.3492 - mae: 2.8140\n",
            "Epoch 97/100\n",
            "12/12 [==============================] - 1s 45ms/step - loss: 2.7743 - mae: 3.2458\n",
            "Epoch 98/100\n",
            "12/12 [==============================] - 0s 39ms/step - loss: 3.5170 - mae: 3.9632\n",
            "Epoch 99/100\n",
            "12/12 [==============================] - 1s 43ms/step - loss: 2.7007 - mae: 3.1465\n",
            "Epoch 100/100\n",
            "12/12 [==============================] - 0s 40ms/step - loss: 3.7082 - mae: 4.1812\n"
          ],
          "name": "stdout"
        }
      ]
    },
    {
      "cell_type": "code",
      "metadata": {
        "id": "vVcKmg7Q_7rD",
        "colab_type": "code",
        "colab": {
          "base_uri": "https://localhost:8080/",
          "height": 290
        },
        "outputId": "db62f2e8-e8aa-4ddd-8428-aee63c00b1f1"
      },
      "source": [
        "plt.semilogx(history.history[\"lr\"], history.history[\"loss\"])\n",
        "plt.axis([1e-8, 1e-4, 0, 60])"
      ],
      "execution_count": null,
      "outputs": [
        {
          "output_type": "execute_result",
          "data": {
            "text/plain": [
              "[1e-08, 0.0001, 0, 60]"
            ]
          },
          "metadata": {
            "tags": []
          },
          "execution_count": 25
        },
        {
          "output_type": "display_data",
          "data": {
            "image/png": "[encoded data removed]",
            "text/plain": [
              "<Figure size 432x288 with 1 Axes>"
            ]
          },
          "metadata": {
            "tags": []
          }
        }
      ]
    },
    {
      "cell_type": "code",
      "metadata": {
        "id": "QsksvkcXAAgq",
        "colab_type": "code",
        "colab": {
          "base_uri": "https://localhost:8080/",
          "height": 1000
        },
        "outputId": "51c3baaf-5aad-41bf-8e7c-a68267bd9ecf"
      },
      "source": [
        "tf.keras.backend.clear_session()\n",
        "tf.random.set_seed(51)\n",
        "np.random.seed(51)\n",
        "\n",
        "train_set = windowed_dataset(x_train, window_size=60, batch_size=100, shuffle_buffer=shuffle_buffer_size)\n",
        "\n",
        "model = tf.keras.models.Sequential([\n",
        "    # YOUR CODE HERE\n",
        "    tf.keras.layers.Conv1D(filters=60, kernel_size=5, strides=1, \n",
        "                           padding=\"causal\", activation=\"relu\", \n",
        "                           input_shape=[None, 1]),\n",
        "  \ttf.keras.layers.LSTM(64, return_sequences=True),\n",
        "\ttf.keras.layers.LSTM(64, return_sequences=True),\n",
        "  \ttf.keras.layers.Dense(30, activation=\"relu\"),\n",
        "  \ttf.keras.layers.Dense(10, activation=\"relu\"),\n",
        "  \ttf.keras.layers.Dense(1),\n",
        "  \ttf.keras.layers.Lambda(lambda x: x * 400) \n",
        "])\n",
        "\n",
        "\n",
        "optimizer = tf.keras.optimizers.SGD(lr=1e-7, momentum=0.9)\n",
        "\n",
        "model.compile(loss=tf.keras.losses.Huber(),\n",
        "              optimizer=optimizer,\n",
        "              metrics=[\"mae\"])\n",
        "\n",
        "history = model.fit(train_set,epochs=200, verbose=1)\n",
        "                                    \n",
        "# EXPECTED OUTPUT SHOULD SEE AN MAE OF <2 WITHIN ABOUT 30 EPOCHS"
      ],
      "execution_count": null,
      "outputs": [
        {
          "output_type": "stream",
          "text": [
            "WARNING:tensorflow:From /usr/local/lib/python3.6/dist-packages/tensorflow_core/python/data/util/random_seed.py:58: where (from tensorflow.python.ops.array_ops) is deprecated and will be removed in a future version.\n",
            "Instructions for updating:\n",
            "Use tf.where in 2.0, which has the same broadcast rule as np.where\n",
            "Epoch 1/200\n",
            "30/30 [==============================] - 5s 179ms/step - loss: 8.1173 - mae: 8.6835\n",
            "Epoch 2/200\n",
            "30/30 [==============================] - 1s 20ms/step - loss: 3.8447 - mae: 4.3144\n",
            "Epoch 3/200\n",
            "30/30 [==============================] - 1s 20ms/step - loss: 3.5612 - mae: 4.0296\n",
            "Epoch 4/200\n",
            "30/30 [==============================] - 1s 19ms/step - loss: 3.4885 - mae: 3.9556\n",
            "Epoch 5/200\n",
            "30/30 [==============================] - 1s 20ms/step - loss: 3.4145 - mae: 3.8847\n",
            "Epoch 6/200\n",
            "30/30 [==============================] - 1s 20ms/step - loss: 3.3641 - mae: 3.8357\n",
            "Epoch 7/200\n",
            "30/30 [==============================] - 1s 21ms/step - loss: 3.3164 - mae: 3.7848\n",
            "Epoch 8/200\n",
            "30/30 [==============================] - 1s 21ms/step - loss: 3.2657 - mae: 3.7365\n",
            "Epoch 9/200\n",
            "30/30 [==============================] - 1s 20ms/step - loss: 3.2309 - mae: 3.7047\n",
            "Epoch 10/200\n",
            "30/30 [==============================] - 1s 21ms/step - loss: 3.1964 - mae: 3.6649\n",
            "Epoch 11/200\n",
            "30/30 [==============================] - 1s 19ms/step - loss: 3.1701 - mae: 3.6388\n",
            "Epoch 12/200\n",
            "30/30 [==============================] - 1s 20ms/step - loss: 3.1366 - mae: 3.6036\n",
            "Epoch 13/200\n",
            "30/30 [==============================] - 1s 20ms/step - loss: 3.1018 - mae: 3.5711\n",
            "Epoch 14/200\n",
            "30/30 [==============================] - 1s 20ms/step - loss: 3.0824 - mae: 3.5528\n",
            "Epoch 15/200\n",
            "30/30 [==============================] - 1s 21ms/step - loss: 3.0414 - mae: 3.5105\n",
            "Epoch 16/200\n",
            "30/30 [==============================] - 1s 20ms/step - loss: 3.0356 - mae: 3.5002\n",
            "Epoch 17/200\n",
            "30/30 [==============================] - 1s 19ms/step - loss: 2.9939 - mae: 3.4604\n",
            "Epoch 18/200\n",
            "30/30 [==============================] - 1s 21ms/step - loss: 2.9723 - mae: 3.4440\n",
            "Epoch 19/200\n",
            "30/30 [==============================] - 1s 20ms/step - loss: 2.9498 - mae: 3.4155\n",
            "Epoch 20/200\n",
            "30/30 [==============================] - 1s 21ms/step - loss: 2.9413 - mae: 3.4059\n",
            "Epoch 21/200\n",
            "30/30 [==============================] - 1s 20ms/step - loss: 2.9101 - mae: 3.3807\n",
            "Epoch 22/200\n",
            "30/30 [==============================] - 1s 22ms/step - loss: 2.8889 - mae: 3.3603\n",
            "Epoch 23/200\n",
            "30/30 [==============================] - 1s 20ms/step - loss: 2.8763 - mae: 3.3432\n",
            "Epoch 24/200\n",
            "30/30 [==============================] - 1s 19ms/step - loss: 2.8659 - mae: 3.3296\n",
            "Epoch 25/200\n",
            "30/30 [==============================] - 1s 20ms/step - loss: 2.8455 - mae: 3.3089\n",
            "Epoch 26/200\n",
            "30/30 [==============================] - 1s 20ms/step - loss: 2.8314 - mae: 3.2972\n",
            "Epoch 27/200\n",
            "30/30 [==============================] - 1s 20ms/step - loss: 2.8192 - mae: 3.2843\n",
            "Epoch 28/200\n",
            "30/30 [==============================] - 1s 20ms/step - loss: 2.8120 - mae: 3.2783\n",
            "Epoch 29/200\n",
            "30/30 [==============================] - 1s 20ms/step - loss: 2.7834 - mae: 3.2484\n",
            "Epoch 30/200\n",
            "30/30 [==============================] - 1s 20ms/step - loss: 2.7695 - mae: 3.2364\n",
            "Epoch 31/200\n",
            "30/30 [==============================] - 1s 20ms/step - loss: 2.7642 - mae: 3.2260\n",
            "Epoch 32/200\n",
            "30/30 [==============================] - 1s 20ms/step - loss: 2.7531 - mae: 3.2186\n",
            "Epoch 33/200\n",
            "30/30 [==============================] - 1s 20ms/step - loss: 2.7323 - mae: 3.1974\n",
            "Epoch 34/200\n",
            "30/30 [==============================] - 1s 21ms/step - loss: 2.7251 - mae: 3.1897\n",
            "Epoch 35/200\n",
            "30/30 [==============================] - 1s 20ms/step - loss: 2.7232 - mae: 3.1857\n",
            "Epoch 36/200\n",
            "30/30 [==============================] - 1s 19ms/step - loss: 2.6979 - mae: 3.1626\n",
            "Epoch 37/200\n",
            "30/30 [==============================] - 1s 20ms/step - loss: 2.6936 - mae: 3.1639\n",
            "Epoch 38/200\n",
            "30/30 [==============================] - 1s 19ms/step - loss: 2.6897 - mae: 3.1552\n",
            "Epoch 39/200\n",
            "30/30 [==============================] - 1s 20ms/step - loss: 2.6829 - mae: 3.1448\n",
            "Epoch 40/200\n",
            "30/30 [==============================] - 1s 20ms/step - loss: 2.6660 - mae: 3.1284\n",
            "Epoch 41/200\n",
            "30/30 [==============================] - 1s 20ms/step - loss: 2.6581 - mae: 3.1195\n",
            "Epoch 42/200\n",
            "30/30 [==============================] - 1s 21ms/step - loss: 2.6558 - mae: 3.1196\n",
            "Epoch 43/200\n",
            "30/30 [==============================] - 1s 21ms/step - loss: 2.6409 - mae: 3.1036\n",
            "Epoch 44/200\n",
            "30/30 [==============================] - 1s 20ms/step - loss: 2.6455 - mae: 3.1059\n",
            "Epoch 45/200\n",
            "30/30 [==============================] - 1s 20ms/step - loss: 2.6248 - mae: 3.0906\n",
            "Epoch 46/200\n",
            "30/30 [==============================] - 1s 19ms/step - loss: 2.6150 - mae: 3.0793\n",
            "Epoch 47/200\n",
            "30/30 [==============================] - 1s 20ms/step - loss: 2.6079 - mae: 3.0725\n",
            "Epoch 48/200\n",
            "30/30 [==============================] - 1s 20ms/step - loss: 2.6044 - mae: 3.0657\n",
            "Epoch 49/200\n",
            "30/30 [==============================] - 1s 21ms/step - loss: 2.5974 - mae: 3.0583\n",
            "Epoch 50/200\n",
            "30/30 [==============================] - 1s 21ms/step - loss: 2.5865 - mae: 3.0514\n",
            "Epoch 51/200\n",
            "30/30 [==============================] - 1s 20ms/step - loss: 2.5874 - mae: 3.0487\n",
            "Epoch 52/200\n",
            "30/30 [==============================] - 1s 20ms/step - loss: 2.5680 - mae: 3.0323\n",
            "Epoch 53/200\n",
            "30/30 [==============================] - 1s 19ms/step - loss: 2.5618 - mae: 3.0258\n",
            "Epoch 54/200\n",
            "30/30 [==============================] - 1s 19ms/step - loss: 2.5479 - mae: 3.0153\n",
            "Epoch 55/200\n",
            "30/30 [==============================] - 1s 20ms/step - loss: 2.5459 - mae: 3.0095\n",
            "Epoch 56/200\n",
            "30/30 [==============================] - 1s 20ms/step - loss: 2.5323 - mae: 2.9965\n",
            "Epoch 57/200\n",
            "30/30 [==============================] - 1s 20ms/step - loss: 2.5395 - mae: 2.9982\n",
            "Epoch 58/200\n",
            "30/30 [==============================] - 1s 20ms/step - loss: 2.5186 - mae: 2.9905\n",
            "Epoch 59/200\n",
            "30/30 [==============================] - 1s 19ms/step - loss: 2.5121 - mae: 2.9724\n",
            "Epoch 60/200\n",
            "30/30 [==============================] - 1s 19ms/step - loss: 2.5069 - mae: 2.9727\n",
            "Epoch 61/200\n",
            "30/30 [==============================] - 1s 20ms/step - loss: 2.5056 - mae: 2.9681\n",
            "Epoch 62/200\n",
            "30/30 [==============================] - 1s 20ms/step - loss: 2.4933 - mae: 2.9541\n",
            "Epoch 63/200\n",
            "30/30 [==============================] - 1s 20ms/step - loss: 2.4783 - mae: 2.9418\n",
            "Epoch 64/200\n",
            "30/30 [==============================] - 1s 20ms/step - loss: 2.4627 - mae: 2.9252\n",
            "Epoch 65/200\n",
            "30/30 [==============================] - 1s 20ms/step - loss: 2.4709 - mae: 2.9336\n",
            "Epoch 66/200\n",
            "30/30 [==============================] - 1s 20ms/step - loss: 2.4527 - mae: 2.9142\n",
            "Epoch 67/200\n",
            "30/30 [==============================] - 1s 20ms/step - loss: 2.4464 - mae: 2.9080\n",
            "Epoch 68/200\n",
            "30/30 [==============================] - 1s 21ms/step - loss: 2.4571 - mae: 2.9206\n",
            "Epoch 69/200\n",
            "30/30 [==============================] - 1s 19ms/step - loss: 2.4306 - mae: 2.8965\n",
            "Epoch 70/200\n",
            "30/30 [==============================] - 1s 21ms/step - loss: 2.4340 - mae: 2.8921\n",
            "Epoch 71/200\n",
            "30/30 [==============================] - 1s 21ms/step - loss: 2.4190 - mae: 2.8833\n",
            "Epoch 72/200\n",
            "30/30 [==============================] - 1s 20ms/step - loss: 2.4203 - mae: 2.8827\n",
            "Epoch 73/200\n",
            "30/30 [==============================] - 1s 19ms/step - loss: 2.4225 - mae: 2.8813\n",
            "Epoch 74/200\n",
            "30/30 [==============================] - 1s 19ms/step - loss: 2.4052 - mae: 2.8677\n",
            "Epoch 75/200\n",
            "30/30 [==============================] - 1s 20ms/step - loss: 2.3993 - mae: 2.8646\n",
            "Epoch 76/200\n",
            "30/30 [==============================] - 1s 21ms/step - loss: 2.3937 - mae: 2.8566\n",
            "Epoch 77/200\n",
            "30/30 [==============================] - 1s 21ms/step - loss: 2.4066 - mae: 2.8718\n",
            "Epoch 78/200\n",
            "30/30 [==============================] - 1s 21ms/step - loss: 2.3934 - mae: 2.8499\n",
            "Epoch 79/200\n",
            "30/30 [==============================] - 1s 20ms/step - loss: 2.3918 - mae: 2.8502\n",
            "Epoch 80/200\n",
            "30/30 [==============================] - 1s 19ms/step - loss: 2.3902 - mae: 2.8486\n",
            "Epoch 81/200\n",
            "30/30 [==============================] - 1s 20ms/step - loss: 2.3764 - mae: 2.8458\n",
            "Epoch 82/200\n",
            "30/30 [==============================] - 1s 20ms/step - loss: 2.3820 - mae: 2.8383\n",
            "Epoch 83/200\n",
            "30/30 [==============================] - 1s 20ms/step - loss: 2.3765 - mae: 2.8354\n",
            "Epoch 84/200\n",
            "30/30 [==============================] - 1s 21ms/step - loss: 2.3732 - mae: 2.8290\n",
            "Epoch 85/200\n",
            "30/30 [==============================] - 1s 21ms/step - loss: 2.3722 - mae: 2.8327\n",
            "Epoch 86/200\n",
            "30/30 [==============================] - 1s 21ms/step - loss: 2.3598 - mae: 2.8238\n",
            "Epoch 87/200\n",
            "30/30 [==============================] - 1s 21ms/step - loss: 2.3768 - mae: 2.8324\n",
            "Epoch 88/200\n",
            "30/30 [==============================] - 1s 20ms/step - loss: 2.3629 - mae: 2.8277\n",
            "Epoch 89/200\n",
            "30/30 [==============================] - 1s 20ms/step - loss: 2.3595 - mae: 2.8183\n",
            "Epoch 90/200\n",
            "30/30 [==============================] - 1s 20ms/step - loss: 2.3538 - mae: 2.8190\n",
            "Epoch 91/200\n",
            "30/30 [==============================] - 1s 21ms/step - loss: 2.3534 - mae: 2.8191\n",
            "Epoch 92/200\n",
            "30/30 [==============================] - 1s 20ms/step - loss: 2.3598 - mae: 2.8178\n",
            "Epoch 93/200\n",
            "30/30 [==============================] - 1s 20ms/step - loss: 2.3528 - mae: 2.8108\n",
            "Epoch 94/200\n",
            "30/30 [==============================] - 1s 20ms/step - loss: 2.3406 - mae: 2.8043\n",
            "Epoch 95/200\n",
            "30/30 [==============================] - 1s 20ms/step - loss: 2.3454 - mae: 2.8014\n",
            "Epoch 96/200\n",
            "30/30 [==============================] - 1s 21ms/step - loss: 2.3424 - mae: 2.8038\n",
            "Epoch 97/200\n",
            "30/30 [==============================] - 1s 19ms/step - loss: 2.3383 - mae: 2.7964\n",
            "Epoch 98/200\n",
            "30/30 [==============================] - 1s 21ms/step - loss: 2.3400 - mae: 2.7992\n",
            "Epoch 99/200\n",
            "30/30 [==============================] - 1s 20ms/step - loss: 2.3338 - mae: 2.7923\n",
            "Epoch 100/200\n",
            "30/30 [==============================] - 1s 19ms/step - loss: 2.3286 - mae: 2.7902\n",
            "Epoch 101/200\n",
            "30/30 [==============================] - 1s 20ms/step - loss: 2.3260 - mae: 2.7884\n",
            "Epoch 102/200\n",
            "30/30 [==============================] - 1s 20ms/step - loss: 2.3366 - mae: 2.7956\n",
            "Epoch 103/200\n",
            "30/30 [==============================] - 1s 21ms/step - loss: 2.3317 - mae: 2.7877\n",
            "Epoch 104/200\n",
            "30/30 [==============================] - 1s 21ms/step - loss: 2.3227 - mae: 2.7826\n",
            "Epoch 105/200\n",
            "30/30 [==============================] - 1s 19ms/step - loss: 2.3287 - mae: 2.7868\n",
            "Epoch 106/200\n",
            "30/30 [==============================] - 1s 21ms/step - loss: 2.3151 - mae: 2.7800\n",
            "Epoch 107/200\n",
            "30/30 [==============================] - 1s 20ms/step - loss: 2.3143 - mae: 2.7778\n",
            "Epoch 108/200\n",
            "30/30 [==============================] - 1s 21ms/step - loss: 2.3281 - mae: 2.7911\n",
            "Epoch 109/200\n",
            "30/30 [==============================] - 1s 20ms/step - loss: 2.3159 - mae: 2.7745\n",
            "Epoch 110/200\n",
            "30/30 [==============================] - 1s 20ms/step - loss: 2.3182 - mae: 2.7725\n",
            "Epoch 111/200\n",
            "30/30 [==============================] - 1s 21ms/step - loss: 2.3041 - mae: 2.7665\n",
            "Epoch 112/200\n",
            "30/30 [==============================] - 1s 21ms/step - loss: 2.3150 - mae: 2.7718\n",
            "Epoch 113/200\n",
            "30/30 [==============================] - 1s 21ms/step - loss: 2.3032 - mae: 2.7658\n",
            "Epoch 114/200\n",
            "30/30 [==============================] - 1s 22ms/step - loss: 2.3067 - mae: 2.7630\n",
            "Epoch 115/200\n",
            "30/30 [==============================] - 1s 21ms/step - loss: 2.2971 - mae: 2.7616\n",
            "Epoch 116/200\n",
            "30/30 [==============================] - 1s 21ms/step - loss: 2.2971 - mae: 2.7607\n",
            "Epoch 117/200\n",
            "30/30 [==============================] - 1s 20ms/step - loss: 2.3008 - mae: 2.7594\n",
            "Epoch 118/200\n",
            "30/30 [==============================] - 1s 21ms/step - loss: 2.2976 - mae: 2.7599\n",
            "Epoch 119/200\n",
            "30/30 [==============================] - 1s 21ms/step - loss: 2.2941 - mae: 2.7551\n",
            "Epoch 120/200\n",
            "30/30 [==============================] - 1s 20ms/step - loss: 2.2942 - mae: 2.7544\n",
            "Epoch 121/200\n",
            "30/30 [==============================] - 1s 20ms/step - loss: 2.2958 - mae: 2.7535\n",
            "Epoch 122/200\n",
            "30/30 [==============================] - 1s 20ms/step - loss: 2.2890 - mae: 2.7513\n",
            "Epoch 123/200\n",
            "30/30 [==============================] - 1s 20ms/step - loss: 2.2863 - mae: 2.7483\n",
            "Epoch 124/200\n",
            "30/30 [==============================] - 1s 21ms/step - loss: 2.2844 - mae: 2.7437\n",
            "Epoch 125/200\n",
            "30/30 [==============================] - 1s 20ms/step - loss: 2.2993 - mae: 2.7542\n",
            "Epoch 126/200\n",
            "30/30 [==============================] - 1s 20ms/step - loss: 2.2957 - mae: 2.7567\n",
            "Epoch 127/200\n",
            "30/30 [==============================] - 1s 22ms/step - loss: 2.2992 - mae: 2.7585\n",
            "Epoch 128/200\n",
            "30/30 [==============================] - 1s 20ms/step - loss: 2.2803 - mae: 2.7443\n",
            "Epoch 129/200\n",
            "30/30 [==============================] - 1s 20ms/step - loss: 2.2841 - mae: 2.7426\n",
            "Epoch 130/200\n",
            "30/30 [==============================] - 1s 20ms/step - loss: 2.2795 - mae: 2.7394\n",
            "Epoch 131/200\n",
            "30/30 [==============================] - 1s 20ms/step - loss: 2.2818 - mae: 2.7409\n",
            "Epoch 132/200\n",
            "30/30 [==============================] - 1s 20ms/step - loss: 2.2742 - mae: 2.7389\n",
            "Epoch 133/200\n",
            "30/30 [==============================] - 1s 20ms/step - loss: 2.2754 - mae: 2.7345\n",
            "Epoch 134/200\n",
            "30/30 [==============================] - 1s 21ms/step - loss: 2.2705 - mae: 2.7345\n",
            "Epoch 135/200\n",
            "30/30 [==============================] - 1s 20ms/step - loss: 2.2843 - mae: 2.7376\n",
            "Epoch 136/200\n",
            "30/30 [==============================] - 1s 20ms/step - loss: 2.2727 - mae: 2.7330\n",
            "Epoch 137/200\n",
            "30/30 [==============================] - 1s 20ms/step - loss: 2.2719 - mae: 2.7319\n",
            "Epoch 138/200\n",
            "30/30 [==============================] - 1s 21ms/step - loss: 2.2780 - mae: 2.7326\n",
            "Epoch 139/200\n",
            "30/30 [==============================] - 1s 19ms/step - loss: 2.2650 - mae: 2.7282\n",
            "Epoch 140/200\n",
            "30/30 [==============================] - 1s 20ms/step - loss: 2.2702 - mae: 2.7294\n",
            "Epoch 141/200\n",
            "30/30 [==============================] - 1s 20ms/step - loss: 2.2733 - mae: 2.7292\n",
            "Epoch 142/200\n",
            "30/30 [==============================] - 1s 20ms/step - loss: 2.2622 - mae: 2.7257\n",
            "Epoch 143/200\n",
            "30/30 [==============================] - 1s 20ms/step - loss: 2.2863 - mae: 2.7407\n",
            "Epoch 144/200\n",
            "30/30 [==============================] - 1s 20ms/step - loss: 2.2820 - mae: 2.7376\n",
            "Epoch 145/200\n",
            "30/30 [==============================] - 1s 20ms/step - loss: 2.2663 - mae: 2.7271\n",
            "Epoch 146/200\n",
            "30/30 [==============================] - 1s 21ms/step - loss: 2.2699 - mae: 2.7300\n",
            "Epoch 147/200\n",
            "30/30 [==============================] - 1s 20ms/step - loss: 2.2626 - mae: 2.7189\n",
            "Epoch 148/200\n",
            "30/30 [==============================] - 1s 20ms/step - loss: 2.2935 - mae: 2.7551\n",
            "Epoch 149/200\n",
            "30/30 [==============================] - 1s 19ms/step - loss: 2.2692 - mae: 2.7243\n",
            "Epoch 150/200\n",
            "30/30 [==============================] - 1s 20ms/step - loss: 2.2622 - mae: 2.7197\n",
            "Epoch 151/200\n",
            "30/30 [==============================] - 1s 20ms/step - loss: 2.2749 - mae: 2.7331\n",
            "Epoch 152/200\n",
            "30/30 [==============================] - 1s 21ms/step - loss: 2.2638 - mae: 2.7212\n",
            "Epoch 153/200\n",
            "30/30 [==============================] - 1s 20ms/step - loss: 2.2577 - mae: 2.7193\n",
            "Epoch 154/200\n",
            "30/30 [==============================] - 1s 21ms/step - loss: 2.2657 - mae: 2.7227\n",
            "Epoch 155/200\n",
            "30/30 [==============================] - 1s 20ms/step - loss: 2.2656 - mae: 2.7252\n",
            "Epoch 156/200\n",
            "30/30 [==============================] - 1s 20ms/step - loss: 2.2686 - mae: 2.7290\n",
            "Epoch 157/200\n",
            "30/30 [==============================] - 1s 20ms/step - loss: 2.2586 - mae: 2.7178\n",
            "Epoch 158/200\n",
            "30/30 [==============================] - 1s 20ms/step - loss: 2.2533 - mae: 2.7149\n",
            "Epoch 159/200\n",
            "30/30 [==============================] - 1s 19ms/step - loss: 2.2609 - mae: 2.7203\n",
            "Epoch 160/200\n",
            "30/30 [==============================] - 1s 20ms/step - loss: 2.2574 - mae: 2.7163\n",
            "Epoch 161/200\n",
            "30/30 [==============================] - 1s 20ms/step - loss: 2.2539 - mae: 2.7130\n",
            "Epoch 162/200\n",
            "30/30 [==============================] - 1s 21ms/step - loss: 2.2585 - mae: 2.7101\n",
            "Epoch 163/200\n",
            "30/30 [==============================] - 1s 20ms/step - loss: 2.2701 - mae: 2.7261\n",
            "Epoch 164/200\n",
            "30/30 [==============================] - 1s 20ms/step - loss: 2.2528 - mae: 2.7106\n",
            "Epoch 165/200\n",
            "30/30 [==============================] - 1s 20ms/step - loss: 2.2516 - mae: 2.7097\n",
            "Epoch 166/200\n",
            "30/30 [==============================] - 1s 20ms/step - loss: 2.2540 - mae: 2.7079\n",
            "Epoch 167/200\n",
            "30/30 [==============================] - 1s 21ms/step - loss: 2.2507 - mae: 2.7113\n",
            "Epoch 168/200\n",
            "30/30 [==============================] - 1s 20ms/step - loss: 2.2507 - mae: 2.7126\n",
            "Epoch 169/200\n",
            "30/30 [==============================] - 1s 20ms/step - loss: 2.2467 - mae: 2.7073\n",
            "Epoch 170/200\n",
            "30/30 [==============================] - 1s 21ms/step - loss: 2.2465 - mae: 2.7065\n",
            "Epoch 171/200\n",
            "30/30 [==============================] - 1s 20ms/step - loss: 2.2396 - mae: 2.7057\n",
            "Epoch 172/200\n",
            "30/30 [==============================] - 1s 21ms/step - loss: 2.2513 - mae: 2.7144\n",
            "Epoch 173/200\n",
            "30/30 [==============================] - 1s 20ms/step - loss: 2.2423 - mae: 2.7045\n",
            "Epoch 174/200\n",
            "30/30 [==============================] - 1s 20ms/step - loss: 2.2587 - mae: 2.7135\n",
            "Epoch 175/200\n",
            "30/30 [==============================] - 1s 21ms/step - loss: 2.2479 - mae: 2.7057\n",
            "Epoch 176/200\n",
            "30/30 [==============================] - 1s 22ms/step - loss: 2.2546 - mae: 2.7138\n",
            "Epoch 177/200\n",
            "30/30 [==============================] - 1s 19ms/step - loss: 2.2465 - mae: 2.7012\n",
            "Epoch 178/200\n",
            "30/30 [==============================] - 1s 20ms/step - loss: 2.2377 - mae: 2.7022\n",
            "Epoch 179/200\n",
            "30/30 [==============================] - 1s 19ms/step - loss: 2.2417 - mae: 2.7030\n",
            "Epoch 180/200\n",
            "30/30 [==============================] - 1s 20ms/step - loss: 2.2458 - mae: 2.7023\n",
            "Epoch 181/200\n",
            "30/30 [==============================] - 1s 19ms/step - loss: 2.2399 - mae: 2.6999\n",
            "Epoch 182/200\n",
            "30/30 [==============================] - 1s 21ms/step - loss: 2.2364 - mae: 2.6978\n",
            "Epoch 183/200\n",
            "30/30 [==============================] - 1s 21ms/step - loss: 2.2513 - mae: 2.7210\n",
            "Epoch 184/200\n",
            "30/30 [==============================] - 1s 20ms/step - loss: 2.2434 - mae: 2.6995\n",
            "Epoch 185/200\n",
            "30/30 [==============================] - 1s 20ms/step - loss: 2.2483 - mae: 2.7052\n",
            "Epoch 186/200\n",
            "30/30 [==============================] - 1s 20ms/step - loss: 2.2392 - mae: 2.7042\n",
            "Epoch 187/200\n",
            "30/30 [==============================] - 1s 19ms/step - loss: 2.2404 - mae: 2.6963\n",
            "Epoch 188/200\n",
            "30/30 [==============================] - 1s 21ms/step - loss: 2.2466 - mae: 2.7050\n",
            "Epoch 189/200\n",
            "30/30 [==============================] - 1s 19ms/step - loss: 2.2460 - mae: 2.6999\n",
            "Epoch 190/200\n",
            "30/30 [==============================] - 1s 20ms/step - loss: 2.2412 - mae: 2.6999\n",
            "Epoch 191/200\n",
            "30/30 [==============================] - 1s 20ms/step - loss: 2.2355 - mae: 2.6925\n",
            "Epoch 192/200\n",
            "30/30 [==============================] - 1s 20ms/step - loss: 2.2389 - mae: 2.6972\n",
            "Epoch 193/200\n",
            "30/30 [==============================] - 1s 21ms/step - loss: 2.2307 - mae: 2.6938\n",
            "Epoch 194/200\n",
            "30/30 [==============================] - 1s 20ms/step - loss: 2.2444 - mae: 2.6979\n",
            "Epoch 195/200\n",
            "30/30 [==============================] - 1s 21ms/step - loss: 2.2415 - mae: 2.6996\n",
            "Epoch 196/200\n",
            "30/30 [==============================] - 1s 20ms/step - loss: 2.2342 - mae: 2.6955\n",
            "Epoch 197/200\n",
            "30/30 [==============================] - 1s 21ms/step - loss: 2.2323 - mae: 2.6907\n",
            "Epoch 198/200\n",
            "30/30 [==============================] - 1s 20ms/step - loss: 2.2493 - mae: 2.7065\n",
            "Epoch 199/200\n",
            "30/30 [==============================] - 1s 20ms/step - loss: 2.2381 - mae: 2.6941\n",
            "Epoch 200/200\n",
            "30/30 [==============================] - 1s 20ms/step - loss: 2.2323 - mae: 2.6967\n"
          ],
          "name": "stdout"
        }
      ]
    },
    {
      "cell_type": "code",
      "metadata": {
        "id": "GaC6NNMRp0lb",
        "colab_type": "code",
        "colab": {}
      },
      "source": [
        "rnn_forecast = model_forecast(model, series[..., np.newaxis], window_size)\n",
        "rnn_forecast = rnn_forecast[split_time - window_size:-1, -1, 0]"
      ],
      "execution_count": null,
      "outputs": []
    },
    {
      "cell_type": "code",
      "metadata": {
        "id": "051xsTRv_WdG",
        "colab_type": "code",
        "colab": {
          "base_uri": "https://localhost:8080/",
          "height": 35
        },
        "outputId": "0961b59f-0a52-4288-f7c7-f56eeac76ef9"
      },
      "source": [
        "len(rnn_forecast)"
      ],
      "execution_count": null,
      "outputs": [
        {
          "output_type": "execute_result",
          "data": {
            "text/plain": [
              "650"
            ]
          },
          "metadata": {
            "tags": []
          },
          "execution_count": 17
        }
      ]
    },
    {
      "cell_type": "code",
      "metadata": {
        "id": "wyWLKUbp_bqF",
        "colab_type": "code",
        "colab": {
          "base_uri": "https://localhost:8080/",
          "height": 35
        },
        "outputId": "e2f594f5-bd28-4a31-d43f-c9e7e696bbe5"
      },
      "source": [
        "len(time_valid)"
      ],
      "execution_count": null,
      "outputs": [
        {
          "output_type": "execute_result",
          "data": {
            "text/plain": [
              "650"
            ]
          },
          "metadata": {
            "tags": []
          },
          "execution_count": 18
        }
      ]
    },
    {
      "cell_type": "code",
      "metadata": {
        "colab_type": "code",
        "id": "izy6wl2S9d-2",
        "colab": {
          "base_uri": "https://localhost:8080/",
          "height": 392
        },
        "outputId": "f093cf1b-d917-40f0-cd47-fb8f1fdd71d3"
      },
      "source": [
        "plt.figure(figsize=(10, 6))\n",
        "plot_series(time_valid, x_valid)\n",
        "plot_series(time_valid, rnn_forecast)\n",
        "\n",
        "# EXPECTED OUTPUT. PLOT SHOULD SHOW PROJECTIONS FOLLOWING ORIGINAL DATA CLOSELY"
      ],
      "execution_count": null,
      "outputs": [
        {
          "output_type": "display_data",
          "data": {
            "image/png": "[encoded data removed]",
            "text/plain": [
              "<Figure size 720x432 with 1 Axes>"
            ]
          },
          "metadata": {
            "tags": []
          }
        }
      ]
    },
    {
      "cell_type": "code",
      "metadata": {
        "id": "13XrorC5wQoE",
        "colab_type": "code",
        "colab": {
          "base_uri": "https://localhost:8080/",
          "height": 35
        },
        "outputId": "5059ac0c-2f5f-46cd-9aa4-7ba502752512"
      },
      "source": [
        "tf.keras.metrics.mean_absolute_error(x_valid, rnn_forecast).numpy()\n",
        "\n",
        "# EXPECTED OUTPUT MAE < 2 -- I GOT 1.789626"
      ],
      "execution_count": null,
      "outputs": [
        {
          "output_type": "execute_result",
          "data": {
            "text/plain": [
              "2.078116"
            ]
          },
          "metadata": {
            "tags": []
          },
          "execution_count": 20
        }
      ]
    },
    {
      "cell_type": "code",
      "metadata": {
        "id": "AOVzQXxCwkzP",
        "colab_type": "code",
        "colab": {
          "base_uri": "https://localhost:8080/",
          "height": 1000
        },
        "outputId": "1adb7427-4094-43a5-ffc4-2de299836069"
      },
      "source": [
        "print(rnn_forecast)\n",
        "# EXPECTED OUTPUT -- ARRAY OF VALUES IN THE LOW TEENS"
      ],
      "execution_count": null,
      "outputs": [
        {
          "output_type": "stream",
          "text": [
            "[14.904907  14.456481  13.5971155 12.805793  12.934578  12.388223\n",
            " 13.377532  14.126074  14.294016  13.987512  13.67751   13.880626\n",
            " 14.038142  13.925788  13.861376  13.579411  13.393569  14.174602\n",
            " 12.94936   13.088572  13.033157  13.476136  13.692578  14.013063\n",
            " 13.730296  13.50072   13.055956  12.69674   12.827248  12.38276\n",
            " 12.097766  11.317561  12.248464  11.76916   11.5874405 11.801101\n",
            " 11.710097  12.088184  12.3084345 12.394803  12.519344  12.407739\n",
            " 12.398397  12.832936  12.952328  13.19071   12.790012  12.553772\n",
            " 12.539095  12.464785  12.869271  13.411641  13.775399  13.457635\n",
            " 13.592783  13.061964  12.829987  12.0951185 12.615344  12.834367\n",
            " 12.218021  11.70132   11.771847  12.678707  12.4591675 11.570885\n",
            " 11.723644  11.229694  10.671965  10.920765  10.783798  10.235679\n",
            " 10.583631   8.64619    7.5939975  9.04688    9.071436   8.522416\n",
            "  7.6197257  6.9778004  6.438745   5.9165635  5.760456   6.130003\n",
            "  5.8559127  6.274193   6.8925014  7.326228   7.2380075  7.8834944\n",
            "  8.389985   8.217447   8.379393   8.033279   7.7299824  7.6849093\n",
            "  7.400752   6.703105   6.25057    5.499404   5.9451065  6.8998194\n",
            "  6.9543967  6.6466265  6.1623225  6.560684   6.0530148  5.493111\n",
            "  5.673582   5.518972   5.701771   6.2839427  6.3743243  6.353692\n",
            "  6.6807323  6.1381006  6.208881   5.891154   7.503038   7.3675075\n",
            "  6.8823776  6.627401   6.6220784  6.2130938  6.00171    6.87212\n",
            "  8.077225   7.2442255  7.117053   7.2140374  8.076062   7.9270234\n",
            "  8.069544   7.5676374  8.086779   8.27705    8.695641   7.6073236\n",
            "  7.688173   7.3262477  7.2455635  7.065495   7.5440607  7.9479403\n",
            "  8.140958   7.6355734  7.5861106  7.1366587  7.791034   7.809236\n",
            "  7.070429   7.326529   7.502543   7.12795    7.118665   7.326039\n",
            "  7.193743   6.640505   7.178039   6.590409   6.4083643  6.977247\n",
            "  6.9129906  7.045547   7.5687637  7.934005   7.0871077  7.2631335\n",
            "  7.1983924  7.446473   7.0020785  7.1231     8.3116045  9.192402\n",
            "  9.743876   9.02318    9.905813   9.202812   9.12703    9.28686\n",
            "  9.318996   8.7581835  9.286601   8.571562   8.700406   9.095847\n",
            "  9.669146   9.85438    9.425832  10.463422  10.568907   9.610937\n",
            " 11.135349  11.037166  11.446155  10.915418  10.824456  11.042551\n",
            " 11.905897  11.619524  10.904607  10.30365   10.706278  10.517514\n",
            "  9.950497  10.11992   10.10942    9.787453  10.268231  10.070871\n",
            " 10.194454  10.2086525 11.681974  11.60587   11.1686535 11.289982\n",
            " 11.731165  11.168373  12.241534  11.557161  11.729767  11.563655\n",
            " 11.775632  12.458793  11.885949  12.597752  11.581176  11.985024\n",
            " 12.106891  12.478217  12.716317  12.601224  12.525496  12.209888\n",
            " 12.121459  11.724741  12.756094  11.981783  12.277274  12.179418\n",
            " 12.425666  12.584925  12.849763  13.212532  12.787092  12.89866\n",
            " 13.63562   14.553806  15.219632  16.789341  15.607983  15.330786\n",
            " 14.532256  15.089801  15.611797  15.857998  16.076904  15.2089205\n",
            " 14.861891  13.380912  14.096862  13.936699  14.76123   15.058038\n",
            " 15.306801  13.303566  14.113196  13.500005  12.933644  13.719049\n",
            " 14.204958  14.690021  14.952207  14.746245  15.081265  14.912274\n",
            " 13.85132   14.426732  14.093497  14.301931  14.697495  15.0350275\n",
            " 14.809418  13.807389  13.716367  13.815824  14.191681  14.039532\n",
            " 14.08062   14.142302  14.280957  14.126858  14.254117  14.483818\n",
            " 14.903572  15.078026  15.662986  16.275545  16.19757   15.121042\n",
            " 13.782832  13.776538  14.85771   14.588347  15.158611  15.730908\n",
            " 15.430254  14.982179  14.239851  14.802769  13.637763  15.367397\n",
            " 13.170931  13.504532  13.786197  14.409029  13.609711  13.951174\n",
            " 14.902369  14.214047  14.768827  15.650311  15.306434  15.0822525\n",
            " 14.719978  14.619345  15.158126  14.5713005 14.743614  13.7883005\n",
            " 13.977936  13.991469  14.251241  15.345714  13.830775  14.606604\n",
            " 13.015741  14.228249  14.508653  14.620066  15.356072  14.027935\n",
            " 13.545033  14.250389  14.509958  14.516142  14.695719  14.514351\n",
            " 13.753348  14.252069  14.385218  13.974357  13.050476  13.674363\n",
            " 14.342973  15.5132265 15.875628  15.076095  14.572057  14.859685\n",
            " 15.145818  15.400278  14.709457  14.60503   14.779488  14.521855\n",
            " 14.178151  13.941675  14.226195  14.393955  14.381305  14.103079\n",
            " 13.671851  14.559421  13.44977   13.188714  13.658106  14.32817\n",
            " 14.617083  14.2407055 13.619858  13.800732  14.481222  14.823124\n",
            " 14.378709  13.740167  13.97739   13.56425   14.672375  13.661986\n",
            " 13.141879  13.518956  13.653821  13.775402  14.022955  14.094609\n",
            " 14.143348  14.240787  14.05029   13.940135  13.695392  13.609889\n",
            " 13.334065  12.776223  12.525019  12.26292   12.385019  12.495438\n",
            " 12.845549  12.681234  12.860617  12.845007  12.545243  11.531775\n",
            " 11.008217  12.221434  13.094619  14.013913  12.833825  12.580085\n",
            " 11.626062  11.245567  11.297007  11.299727  11.596408  10.729884\n",
            " 10.428377   9.779703   9.811454  10.708095  10.970726  10.571728\n",
            " 10.078967   9.285297   8.25223    7.934222   8.575877   8.957875\n",
            "  8.568355   8.125129   8.145609   8.180294   7.8979573  7.8882046\n",
            "  7.210978   8.209659   8.416328   8.281895   8.333435   8.47851\n",
            "  9.082011   8.991547   8.69151   10.68965   10.210025   9.957289\n",
            "  9.405036   9.326012   8.664446   8.788083   8.491207   8.539551\n",
            "  7.8230596  8.063959   7.398305   7.4015803  7.767222   8.49468\n",
            "  8.180542   7.6492677  7.8118196  7.653745   7.215174   7.444786\n",
            "  7.7401986  8.991217   8.865766   8.674324   8.466365   8.63483\n",
            "  9.741252   9.525533   9.234212   9.183749   9.242976   8.986043\n",
            "  9.06426    8.773039   9.504378   9.271347   9.472094   9.633415\n",
            "  9.28042    9.388673   9.429266   9.23368    8.543257   8.292666\n",
            "  8.125552   9.108872   8.645282   9.209492   9.109237   9.489469\n",
            "  9.063936   8.813162   8.929673   8.566863   8.139297   8.544089\n",
            "  8.22546    8.447004   8.14904    8.04527    7.810589   7.9153204\n",
            "  7.925268   8.099799   8.257475   7.913233   8.120032   8.195702\n",
            "  8.738626   8.40004    7.5661683  8.3328495  9.471648  11.039815\n",
            " 10.302221   9.544769   9.767847   9.318917   9.171521   8.805014\n",
            "  9.100173   8.872693   8.469217   8.616735   9.771754  11.251279\n",
            " 10.907436  10.801229  10.357898  10.182114  10.306495   9.465206\n",
            " 10.07072   10.545923  12.2227125 11.4400425 11.940043  11.01088\n",
            " 11.677245  12.633106  12.634152  12.346038  12.249012  13.312218\n",
            " 13.717588  12.199489  12.643084  11.980548  11.520194  11.627623\n",
            " 11.328118  11.728314  10.594431  10.835787  10.279969  11.468645\n",
            " 10.6110325 10.846492  10.490207  11.089337  12.018327  12.285824\n",
            " 12.151516  12.042508  11.61005   11.738217  11.914406  12.395672\n",
            " 11.632557  12.268934  12.21796   12.018343  12.508038  12.77945\n",
            " 13.515827  13.094965  13.429388  13.839889  14.160672  14.172358\n",
            " 13.945514  14.765453  15.361584  16.398039  16.725979  15.362716\n",
            " 13.595867  13.10358   13.234457  13.844699  14.432657  14.56165\n",
            " 13.019887  12.965647  11.909289  11.527913  12.161434  12.673339\n",
            " 12.655234  11.840103  12.601003  11.986574  12.113085  12.742776\n",
            " 13.240946  13.068181  13.174558  12.998756  13.320428  13.492405\n",
            " 14.153218  14.76148   15.804437  16.224176  15.497747  14.163915\n",
            " 12.636641  12.686616  12.91506   13.602081  13.398212  13.717953\n",
            " 13.859439  13.917708  14.120483  14.57904   13.356844  13.553479\n",
            " 13.396472  13.45805   14.002505  14.163816  14.683482  14.616355\n",
            " 14.538881  14.432883 ]\n"
          ],
          "name": "stdout"
        }
      ]
    }
  ]
}
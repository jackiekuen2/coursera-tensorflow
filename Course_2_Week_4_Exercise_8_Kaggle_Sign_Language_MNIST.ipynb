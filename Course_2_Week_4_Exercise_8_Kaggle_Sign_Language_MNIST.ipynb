{
  "nbformat": 4,
  "nbformat_minor": 0,
  "metadata": {
    "colab": {
      "name": "Course 2 - Week 4 - Exercise 8 - Kaggle Sign Language MNIST.ipynb",
      "provenance": [],
      "collapsed_sections": [],
      "include_colab_link": true
    },
    "kernelspec": {
      "name": "python3",
      "display_name": "Python 3"
    }
  },
  "cells": [
    {
      "cell_type": "markdown",
      "metadata": {
        "id": "view-in-github",
        "colab_type": "text"
      },
      "source": [
        "<a href=\"https://colab.research.google.com/github/jackiekuen2/coursera-tensorflow/blob/master/Course_2_Week_4_Exercise_8_Kaggle_Sign_Language_MNIST.ipynb\" target=\"_parent\"><img src=\"https://colab.research.google.com/assets/colab-badge.svg\" alt=\"Open In Colab\"/></a>"
      ]
    },
    {
      "cell_type": "code",
      "metadata": {
        "id": "wYtuKeK0dImp",
        "colab_type": "code",
        "colab": {}
      },
      "source": [
        "import csv\n",
        "import numpy as np\n",
        "import tensorflow as tf\n",
        "from tensorflow.keras.preprocessing.image import ImageDataGenerator\n",
        "from google.colab import files\n",
        "from tensorflow.keras.optimizers import Adam"
      ],
      "execution_count": null,
      "outputs": []
    },
    {
      "cell_type": "markdown",
      "metadata": {
        "id": "EmMyh9_mkDHF",
        "colab_type": "text"
      },
      "source": [
        "The data for this exercise is available at: https://www.kaggle.com/datamunge/sign-language-mnist/home\n",
        "\n",
        "Sign up and download to find 2 CSV files: sign_mnist_test.csv and sign_mnist_train.csv -- You will upload both of them using this button before you can continue.\n"
      ]
    },
    {
      "cell_type": "code",
      "metadata": {
        "id": "IcLOZlnnc_N7",
        "colab_type": "code",
        "colab": {
          "resources": {
            "http://localhost:8080/nbextensions/google.colab/files.js": {
              "data": "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",
              "ok": true,
              "headers": [
                [
                  "content-type",
                  "application/javascript"
                ]
              ],
              "status": 200,
              "status_text": ""
            }
          },
          "base_uri": "https://localhost:8080/",
          "height": 108
        },
        "outputId": "bfa3f928-7fa1-4da5-904d-b69ad89d2e78"
      },
      "source": [
        "uploaded=files.upload()"
      ],
      "execution_count": null,
      "outputs": [
        {
          "output_type": "display_data",
          "data": {
            "text/html": [
              "\n",
              "     <input type=\"file\" id=\"files-d9437802-4e73-4c3c-aebe-d1806c006353\" name=\"files[]\" multiple disabled />\n",
              "     <output id=\"result-d9437802-4e73-4c3c-aebe-d1806c006353\">\n",
              "      Upload widget is only available when the cell has been executed in the\n",
              "      current browser session. Please rerun this cell to enable.\n",
              "      </output>\n",
              "      <script src=\"/nbextensions/google.colab/files.js\"></script> "
            ],
            "text/plain": [
              "<IPython.core.display.HTML object>"
            ]
          },
          "metadata": {
            "tags": []
          }
        },
        {
          "output_type": "stream",
          "text": [
            "Saving sign_mnist_test.csv to sign_mnist_test.csv\n",
            "Saving sign_mnist_train.csv to sign_mnist_train.csv\n"
          ],
          "name": "stdout"
        }
      ]
    },
    {
      "cell_type": "code",
      "metadata": {
        "id": "4kxw-_rmcnVu",
        "colab_type": "code",
        "colab": {
          "base_uri": "https://localhost:8080/",
          "height": 85
        },
        "outputId": "72006bdb-ee41-4f57-ccc2-011f1a7876d1"
      },
      "source": [
        "def get_data(filename):\n",
        "  # You will need to write code that will read the file passed\n",
        "  # into this function. The first line contains the column headers\n",
        "  # so you should ignore it\n",
        "  # Each successive line contians 785 comma separated values between 0 and 255\n",
        "  # The first value is the label\n",
        "  # The rest are the pixel values for that picture\n",
        "  # The function will return 2 np.array types. One with all the labels\n",
        "  # One with all the images\n",
        "  #\n",
        "  # Tips: \n",
        "  # If you read a full line (as 'row') then row[0] has the label\n",
        "  # and row[1:785] has the 784 pixel values\n",
        "  # Take a look at np.array_split to turn the 784 pixels into 28x28\n",
        "  # You are reading in strings, but need the values to be floats\n",
        "  # Check out np.array().astype for a conversion\n",
        "    with open(filename) as training_file:\n",
        "      # Your code starts here\n",
        "      csv_reader = csv.reader(training_file, delimiter=',')\n",
        "      first_line = True\n",
        "      temp_images = []\n",
        "      temp_labels = []\n",
        "      \n",
        "      for row in csv_reader:\n",
        "        if first_line: # skip first line\n",
        "          first_line = False\n",
        "        else:\n",
        "          temp_labels.append(row[0]) # label\n",
        "          image_data = row[1:785] # pixel values\n",
        "          image_data_as_array = np.array_split(image_data, 28) # turn 784 pixels into 28*28\n",
        "          temp_images.append(image_data_as_array)\n",
        "          \n",
        "      images = np.array(temp_images).astype('float') # turn stings into floats\n",
        "      labels = np.array(temp_labels).astype('float')\n",
        "      # Your code ends here\n",
        "    return images, labels\n",
        "\n",
        "training_images, training_labels = get_data('sign_mnist_train.csv')\n",
        "testing_images, testing_labels = get_data('sign_mnist_test.csv')\n",
        "\n",
        "# Keep these\n",
        "print(training_images.shape)\n",
        "print(training_labels.shape)\n",
        "print(testing_images.shape)\n",
        "print(testing_labels.shape)\n",
        "\n",
        "# Their output should be:\n",
        "# (27455, 28, 28)\n",
        "# (27455,)\n",
        "# (7172, 28, 28)\n",
        "# (7172,)"
      ],
      "execution_count": null,
      "outputs": [
        {
          "output_type": "stream",
          "text": [
            "(27455, 28, 28)\n",
            "(27455,)\n",
            "(7172, 28, 28)\n",
            "(7172,)\n"
          ],
          "name": "stdout"
        }
      ]
    },
    {
      "cell_type": "code",
      "metadata": {
        "id": "awoqRpyZdQkD",
        "colab_type": "code",
        "colab": {
          "base_uri": "https://localhost:8080/",
          "height": 51
        },
        "outputId": "7afbc956-791a-46b3-839c-f38f6cbaaec9"
      },
      "source": [
        "# In this section you will have to add another dimension to the data\n",
        "# So, for example, if your array is (10000, 28, 28)\n",
        "# You will need to make it (10000, 28, 28, 1)\n",
        "# Hint: np.expand_dims\n",
        "\n",
        "training_images = np.expand_dims(training_images, axis=3)\n",
        "testing_images = np.expand_dims(testing_images, axis=3)\n",
        "\n",
        "# Create an ImageDataGenerator and do Image Augmentation\n",
        "train_datagen = ImageDataGenerator(\n",
        "    # Your Code Here\n",
        "    rescale=1./255,\n",
        "    rotation_range=40,\n",
        "    width_shift_range=0.2,\n",
        "    height_shift_range=0.2,\n",
        "    shear_range=0.2,\n",
        "    zoom_range=0.2,\n",
        "    horizontal_flip=True,\n",
        "    fill_mode='nearest')\n",
        "\n",
        "\n",
        "\n",
        "validation_datagen = ImageDataGenerator(rescale=1./255)\n",
        "    \n",
        "# Keep These\n",
        "print(training_images.shape)\n",
        "print(testing_images.shape)\n",
        "    \n",
        "# Their output should be:\n",
        "# (27455, 28, 28, 1)\n",
        "# (7172, 28, 28, 1)"
      ],
      "execution_count": null,
      "outputs": [
        {
          "output_type": "stream",
          "text": [
            "(27455, 28, 28, 1)\n",
            "(7172, 28, 28, 1)\n"
          ],
          "name": "stdout"
        }
      ]
    },
    {
      "cell_type": "code",
      "metadata": {
        "id": "Rmb7S32cgRqS",
        "colab_type": "code",
        "colab": {
          "base_uri": "https://localhost:8080/",
          "height": 1000
        },
        "outputId": "d87f9d3b-f9de-4c5b-9b57-cdee342b074e"
      },
      "source": [
        "# Define the model\n",
        "# Use no more than 2 Conv2D and 2 MaxPooling2D\n",
        "model = tf.keras.models.Sequential([\n",
        "    # Your Code Here\n",
        "    # 1st layer: Convolution\n",
        "    tf.keras.layers.Conv2D(64, (3, 3), activation='relu', input_shape=(28, 28, 1)),\n",
        "    tf.keras.layers.MaxPooling2D(2, 2),\n",
        "    # 2nd layer: Convolution\n",
        "    tf.keras.layers.Conv2D(64, (3, 3), activation='relu'),\n",
        "    tf.keras.layers.MaxPooling2D(2, 2),\n",
        "    # 3rd layer: Flatten to Fully-connected\n",
        "    tf.keras.layers.Flatten(),\n",
        "    tf.keras.layers.Dense(512, activation='relu'),\n",
        "    tf.keras.layers.Dropout(0.2),\n",
        "    # 4th layer: Fully-connected output layer\n",
        "    tf.keras.layers.Dense(26, activation='softmax')])\n",
        "\n",
        "# Print out model summary\n",
        "model.summary()\n",
        "\n",
        "# Compile Model. \n",
        "model.compile(\n",
        "    optimizer=Adam(lr=0.001),\n",
        "    loss='sparse_categorical_crossentropy',\n",
        "    metrics=['accuracy'])\n",
        "\n",
        "# Train the Model\n",
        "history = model.fit_generator(\n",
        "    train_datagen.flow(training_images, training_labels, batch_size=32),\n",
        "    steps_per_epoch=len(training_images)/32,\n",
        "    epochs=100,\n",
        "    validation_data=validation_datagen.flow(testing_images, testing_labels, batch_size=32),\n",
        "    validation_steps=len(testing_images)/32,\n",
        "    verbose=1)\n",
        "\n",
        "model.evaluate(testing_images, testing_labels)\n",
        "    \n",
        "# The output from model.evaluate should be close to:\n",
        "[6.92426086682151, 0.56609035]\n"
      ],
      "execution_count": null,
      "outputs": [
        {
          "output_type": "stream",
          "text": [
            "Model: \"sequential_2\"\n",
            "_________________________________________________________________\n",
            "Layer (type)                 Output Shape              Param #   \n",
            "=================================================================\n",
            "conv2d_4 (Conv2D)            (None, 26, 26, 64)        640       \n",
            "_________________________________________________________________\n",
            "max_pooling2d_4 (MaxPooling2 (None, 13, 13, 64)        0         \n",
            "_________________________________________________________________\n",
            "conv2d_5 (Conv2D)            (None, 11, 11, 64)        36928     \n",
            "_________________________________________________________________\n",
            "max_pooling2d_5 (MaxPooling2 (None, 5, 5, 64)          0         \n",
            "_________________________________________________________________\n",
            "flatten_2 (Flatten)          (None, 1600)              0         \n",
            "_________________________________________________________________\n",
            "dense_4 (Dense)              (None, 512)               819712    \n",
            "_________________________________________________________________\n",
            "dropout_2 (Dropout)          (None, 512)               0         \n",
            "_________________________________________________________________\n",
            "dense_5 (Dense)              (None, 26)                13338     \n",
            "=================================================================\n",
            "Total params: 870,618\n",
            "Trainable params: 870,618\n",
            "Non-trainable params: 0\n",
            "_________________________________________________________________\n",
            "Epoch 1/100\n",
            "858/857 [==============================] - 58s 67ms/step - loss: 2.6528 - acc: 0.1893 - val_loss: 1.8310 - val_acc: 0.4063\n",
            "Epoch 2/100\n",
            "858/857 [==============================] - 58s 68ms/step - loss: 1.9192 - acc: 0.3823 - val_loss: 1.2085 - val_acc: 0.5480\n",
            "Epoch 3/100\n",
            "858/857 [==============================] - 58s 68ms/step - loss: 1.5075 - acc: 0.5083 - val_loss: 0.9007 - val_acc: 0.6984\n",
            "Epoch 4/100\n",
            "858/857 [==============================] - 58s 67ms/step - loss: 1.2589 - acc: 0.5830 - val_loss: 0.7400 - val_acc: 0.7421\n",
            "Epoch 5/100\n",
            "858/857 [==============================] - 58s 67ms/step - loss: 1.1075 - acc: 0.6315 - val_loss: 0.5417 - val_acc: 0.8067\n",
            "Epoch 6/100\n",
            "858/857 [==============================] - 57s 67ms/step - loss: 0.9938 - acc: 0.6672 - val_loss: 0.4965 - val_acc: 0.8187\n",
            "Epoch 7/100\n",
            "858/857 [==============================] - 57s 66ms/step - loss: 0.9056 - acc: 0.6979 - val_loss: 0.3623 - val_acc: 0.8745\n",
            "Epoch 8/100\n",
            "858/857 [==============================] - 57s 66ms/step - loss: 0.8313 - acc: 0.7217 - val_loss: 0.3304 - val_acc: 0.9000\n",
            "Epoch 9/100\n",
            "858/857 [==============================] - 57s 67ms/step - loss: 0.7672 - acc: 0.7396 - val_loss: 0.3023 - val_acc: 0.8912\n",
            "Epoch 10/100\n",
            "858/857 [==============================] - 57s 67ms/step - loss: 0.7151 - acc: 0.7587 - val_loss: 0.2716 - val_acc: 0.8967\n",
            "Epoch 11/100\n",
            "858/857 [==============================] - 57s 67ms/step - loss: 0.6747 - acc: 0.7728 - val_loss: 0.2203 - val_acc: 0.9296\n",
            "Epoch 12/100\n",
            "858/857 [==============================] - 57s 66ms/step - loss: 0.6376 - acc: 0.7848 - val_loss: 0.2140 - val_acc: 0.9293\n",
            "Epoch 13/100\n",
            "858/857 [==============================] - 57s 66ms/step - loss: 0.5985 - acc: 0.7973 - val_loss: 0.1959 - val_acc: 0.9343\n",
            "Epoch 14/100\n",
            "858/857 [==============================] - 57s 66ms/step - loss: 0.5718 - acc: 0.8080 - val_loss: 0.2719 - val_acc: 0.9073\n",
            "Epoch 15/100\n",
            "858/857 [==============================] - 57s 66ms/step - loss: 0.5640 - acc: 0.8113 - val_loss: 0.1483 - val_acc: 0.9541\n",
            "Epoch 16/100\n",
            "858/857 [==============================] - 57s 66ms/step - loss: 0.5317 - acc: 0.8209 - val_loss: 0.2113 - val_acc: 0.9232\n",
            "Epoch 17/100\n",
            "858/857 [==============================] - 57s 66ms/step - loss: 0.5182 - acc: 0.8256 - val_loss: 0.1774 - val_acc: 0.9317\n",
            "Epoch 18/100\n",
            "858/857 [==============================] - 57s 66ms/step - loss: 0.5072 - acc: 0.8269 - val_loss: 0.1743 - val_acc: 0.9434\n",
            "Epoch 19/100\n",
            "858/857 [==============================] - 57s 66ms/step - loss: 0.4780 - acc: 0.8390 - val_loss: 0.1725 - val_acc: 0.9476\n",
            "Epoch 20/100\n",
            "858/857 [==============================] - 57s 66ms/step - loss: 0.4651 - acc: 0.8449 - val_loss: 0.1407 - val_acc: 0.9497\n",
            "Epoch 21/100\n",
            "858/857 [==============================] - 56s 65ms/step - loss: 0.4562 - acc: 0.8438 - val_loss: 0.1360 - val_acc: 0.9497\n",
            "Epoch 22/100\n",
            "858/857 [==============================] - 56s 66ms/step - loss: 0.4460 - acc: 0.8492 - val_loss: 0.1298 - val_acc: 0.9534\n",
            "Epoch 23/100\n",
            "858/857 [==============================] - 57s 66ms/step - loss: 0.4390 - acc: 0.8538 - val_loss: 0.1547 - val_acc: 0.9498\n",
            "Epoch 24/100\n",
            "858/857 [==============================] - 57s 67ms/step - loss: 0.4301 - acc: 0.8545 - val_loss: 0.1740 - val_acc: 0.9400\n",
            "Epoch 25/100\n",
            "858/857 [==============================] - 57s 67ms/step - loss: 0.4197 - acc: 0.8584 - val_loss: 0.1323 - val_acc: 0.9526\n",
            "Epoch 26/100\n",
            "858/857 [==============================] - 57s 67ms/step - loss: 0.4089 - acc: 0.8622 - val_loss: 0.1118 - val_acc: 0.9572\n",
            "Epoch 27/100\n",
            "858/857 [==============================] - 57s 67ms/step - loss: 0.3981 - acc: 0.8652 - val_loss: 0.1423 - val_acc: 0.9552\n",
            "Epoch 28/100\n",
            "858/857 [==============================] - 57s 66ms/step - loss: 0.3894 - acc: 0.8686 - val_loss: 0.1576 - val_acc: 0.9426\n",
            "Epoch 29/100\n",
            "858/857 [==============================] - 57s 67ms/step - loss: 0.3838 - acc: 0.8722 - val_loss: 0.1120 - val_acc: 0.9640\n",
            "Epoch 30/100\n",
            "858/857 [==============================] - 57s 67ms/step - loss: 0.3756 - acc: 0.8756 - val_loss: 0.1227 - val_acc: 0.9497\n",
            "Epoch 31/100\n",
            "858/857 [==============================] - 57s 66ms/step - loss: 0.3706 - acc: 0.8748 - val_loss: 0.1029 - val_acc: 0.9646\n",
            "Epoch 32/100\n",
            "858/857 [==============================] - 57s 66ms/step - loss: 0.3614 - acc: 0.8775 - val_loss: 0.0769 - val_acc: 0.9727\n",
            "Epoch 33/100\n",
            "858/857 [==============================] - 57s 66ms/step - loss: 0.3595 - acc: 0.8816 - val_loss: 0.0718 - val_acc: 0.9802\n",
            "Epoch 34/100\n",
            "858/857 [==============================] - 57s 67ms/step - loss: 0.3657 - acc: 0.8771 - val_loss: 0.0740 - val_acc: 0.9764\n",
            "Epoch 35/100\n",
            "858/857 [==============================] - 57s 67ms/step - loss: 0.3406 - acc: 0.8861 - val_loss: 0.1309 - val_acc: 0.9584\n",
            "Epoch 36/100\n",
            "858/857 [==============================] - 57s 66ms/step - loss: 0.3323 - acc: 0.8887 - val_loss: 0.0757 - val_acc: 0.9776\n",
            "Epoch 37/100\n",
            "858/857 [==============================] - 57s 66ms/step - loss: 0.3279 - acc: 0.8895 - val_loss: 0.0624 - val_acc: 0.9789\n",
            "Epoch 38/100\n",
            "858/857 [==============================] - 56s 66ms/step - loss: 0.3230 - acc: 0.8908 - val_loss: 0.1178 - val_acc: 0.9580\n",
            "Epoch 39/100\n",
            "858/857 [==============================] - 57s 66ms/step - loss: 0.3211 - acc: 0.8925 - val_loss: 0.0661 - val_acc: 0.9794\n",
            "Epoch 40/100\n",
            "858/857 [==============================] - 57s 66ms/step - loss: 0.3241 - acc: 0.8931 - val_loss: 0.0810 - val_acc: 0.9739\n",
            "Epoch 41/100\n",
            "858/857 [==============================] - 57s 67ms/step - loss: 0.3058 - acc: 0.8970 - val_loss: 0.0603 - val_acc: 0.9791\n",
            "Epoch 42/100\n",
            "858/857 [==============================] - 58s 67ms/step - loss: 0.3086 - acc: 0.8962 - val_loss: 0.0809 - val_acc: 0.9764\n",
            "Epoch 43/100\n",
            "858/857 [==============================] - 57s 66ms/step - loss: 0.3039 - acc: 0.8979 - val_loss: 0.0655 - val_acc: 0.9792\n",
            "Epoch 44/100\n",
            "858/857 [==============================] - 57s 67ms/step - loss: 0.3087 - acc: 0.8974 - val_loss: 0.0747 - val_acc: 0.9753\n",
            "Epoch 45/100\n",
            "858/857 [==============================] - 56s 66ms/step - loss: 0.2971 - acc: 0.8987 - val_loss: 0.0988 - val_acc: 0.9709\n",
            "Epoch 46/100\n",
            "858/857 [==============================] - 57s 66ms/step - loss: 0.2960 - acc: 0.9007 - val_loss: 0.0967 - val_acc: 0.9668\n",
            "Epoch 47/100\n",
            "858/857 [==============================] - 57s 66ms/step - loss: 0.2945 - acc: 0.9041 - val_loss: 0.0558 - val_acc: 0.9824\n",
            "Epoch 48/100\n",
            "858/857 [==============================] - 56s 65ms/step - loss: 0.2903 - acc: 0.9030 - val_loss: 0.0524 - val_acc: 0.9854\n",
            "Epoch 49/100\n",
            "858/857 [==============================] - 56s 66ms/step - loss: 0.2778 - acc: 0.9061 - val_loss: 0.0733 - val_acc: 0.9752\n",
            "Epoch 50/100\n",
            "858/857 [==============================] - 57s 66ms/step - loss: 0.2871 - acc: 0.9068 - val_loss: 0.0806 - val_acc: 0.9699\n",
            "Epoch 51/100\n",
            "858/857 [==============================] - 57s 66ms/step - loss: 0.2869 - acc: 0.9029 - val_loss: 0.0750 - val_acc: 0.9748\n",
            "Epoch 52/100\n",
            "858/857 [==============================] - 56s 66ms/step - loss: 0.2726 - acc: 0.9083 - val_loss: 0.0604 - val_acc: 0.9770\n",
            "Epoch 53/100\n",
            "858/857 [==============================] - 57s 66ms/step - loss: 0.2793 - acc: 0.9066 - val_loss: 0.0369 - val_acc: 0.9893\n",
            "Epoch 54/100\n",
            "858/857 [==============================] - 57s 66ms/step - loss: 0.2703 - acc: 0.9111 - val_loss: 0.0586 - val_acc: 0.9735\n",
            "Epoch 55/100\n",
            "858/857 [==============================] - 56s 66ms/step - loss: 0.2675 - acc: 0.9103 - val_loss: 0.0562 - val_acc: 0.9789\n",
            "Epoch 56/100\n",
            "858/857 [==============================] - 56s 66ms/step - loss: 0.2675 - acc: 0.9084 - val_loss: 0.0637 - val_acc: 0.9752\n",
            "Epoch 57/100\n",
            "858/857 [==============================] - 57s 66ms/step - loss: 0.2634 - acc: 0.9123 - val_loss: 0.0733 - val_acc: 0.9717\n",
            "Epoch 58/100\n",
            "858/857 [==============================] - 56s 66ms/step - loss: 0.2569 - acc: 0.9148 - val_loss: 0.0696 - val_acc: 0.9732\n",
            "Epoch 59/100\n",
            "858/857 [==============================] - 57s 66ms/step - loss: 0.2585 - acc: 0.9152 - val_loss: 0.0913 - val_acc: 0.9644\n",
            "Epoch 60/100\n",
            "858/857 [==============================] - 56s 66ms/step - loss: 0.2607 - acc: 0.9139 - val_loss: 0.0470 - val_acc: 0.9852\n",
            "Epoch 61/100\n",
            "858/857 [==============================] - 56s 66ms/step - loss: 0.2519 - acc: 0.9164 - val_loss: 0.0315 - val_acc: 0.9898\n",
            "Epoch 62/100\n",
            "858/857 [==============================] - 57s 66ms/step - loss: 0.2518 - acc: 0.9143 - val_loss: 0.0738 - val_acc: 0.9759\n",
            "Epoch 63/100\n",
            "858/857 [==============================] - 56s 66ms/step - loss: 0.2548 - acc: 0.9135 - val_loss: 0.0431 - val_acc: 0.9856\n",
            "Epoch 64/100\n",
            "858/857 [==============================] - 57s 66ms/step - loss: 0.2529 - acc: 0.9155 - val_loss: 0.0408 - val_acc: 0.9881\n",
            "Epoch 65/100\n",
            "858/857 [==============================] - 56s 66ms/step - loss: 0.2554 - acc: 0.9169 - val_loss: 0.0784 - val_acc: 0.9702\n",
            "Epoch 66/100\n",
            "858/857 [==============================] - 56s 65ms/step - loss: 0.2404 - acc: 0.9214 - val_loss: 0.0630 - val_acc: 0.9753\n",
            "Epoch 67/100\n",
            "858/857 [==============================] - 56s 66ms/step - loss: 0.2436 - acc: 0.9193 - val_loss: 0.0459 - val_acc: 0.9838\n",
            "Epoch 68/100\n",
            "858/857 [==============================] - 57s 66ms/step - loss: 0.2456 - acc: 0.9177 - val_loss: 0.0392 - val_acc: 0.9855\n",
            "Epoch 69/100\n",
            "858/857 [==============================] - 56s 66ms/step - loss: 0.2397 - acc: 0.9207 - val_loss: 0.0465 - val_acc: 0.9828\n",
            "Epoch 70/100\n",
            "858/857 [==============================] - 57s 66ms/step - loss: 0.2332 - acc: 0.9209 - val_loss: 0.0346 - val_acc: 0.9873\n",
            "Epoch 71/100\n",
            "858/857 [==============================] - 56s 66ms/step - loss: 0.2384 - acc: 0.9207 - val_loss: 0.0472 - val_acc: 0.9837\n",
            "Epoch 72/100\n",
            "858/857 [==============================] - 57s 66ms/step - loss: 0.2383 - acc: 0.9217 - val_loss: 0.0516 - val_acc: 0.9803\n",
            "Epoch 73/100\n",
            "858/857 [==============================] - 57s 66ms/step - loss: 0.2296 - acc: 0.9230 - val_loss: 0.0423 - val_acc: 0.9851\n",
            "Epoch 74/100\n",
            "858/857 [==============================] - 56s 66ms/step - loss: 0.2373 - acc: 0.9210 - val_loss: 0.0569 - val_acc: 0.9791\n",
            "Epoch 75/100\n",
            "858/857 [==============================] - 56s 65ms/step - loss: 0.2334 - acc: 0.9224 - val_loss: 0.0470 - val_acc: 0.9812\n",
            "Epoch 76/100\n",
            "858/857 [==============================] - 57s 66ms/step - loss: 0.2261 - acc: 0.9243 - val_loss: 0.0398 - val_acc: 0.9877\n",
            "Epoch 77/100\n",
            "858/857 [==============================] - 57s 66ms/step - loss: 0.2269 - acc: 0.9249 - val_loss: 0.0322 - val_acc: 0.9895\n",
            "Epoch 78/100\n",
            "858/857 [==============================] - 56s 66ms/step - loss: 0.2286 - acc: 0.9258 - val_loss: 0.0647 - val_acc: 0.9788\n",
            "Epoch 79/100\n",
            "858/857 [==============================] - 56s 66ms/step - loss: 0.2203 - acc: 0.9274 - val_loss: 0.0600 - val_acc: 0.9794\n",
            "Epoch 80/100\n",
            "858/857 [==============================] - 56s 66ms/step - loss: 0.2276 - acc: 0.9245 - val_loss: 0.0405 - val_acc: 0.9872\n",
            "Epoch 81/100\n",
            "858/857 [==============================] - 56s 65ms/step - loss: 0.2214 - acc: 0.9259 - val_loss: 0.0377 - val_acc: 0.9861\n",
            "Epoch 82/100\n",
            "858/857 [==============================] - 56s 66ms/step - loss: 0.2286 - acc: 0.9264 - val_loss: 0.0468 - val_acc: 0.9849\n",
            "Epoch 83/100\n",
            "858/857 [==============================] - 57s 66ms/step - loss: 0.2200 - acc: 0.9253 - val_loss: 0.0337 - val_acc: 0.9897\n",
            "Epoch 84/100\n",
            "858/857 [==============================] - 56s 66ms/step - loss: 0.2216 - acc: 0.9265 - val_loss: 0.0470 - val_acc: 0.9856\n",
            "Epoch 85/100\n",
            "858/857 [==============================] - 56s 66ms/step - loss: 0.2157 - acc: 0.9287 - val_loss: 0.0480 - val_acc: 0.9823\n",
            "Epoch 86/100\n",
            "858/857 [==============================] - 56s 65ms/step - loss: 0.2113 - acc: 0.9303 - val_loss: 0.0524 - val_acc: 0.9820\n",
            "Epoch 87/100\n",
            "858/857 [==============================] - 56s 66ms/step - loss: 0.2156 - acc: 0.9283 - val_loss: 0.0483 - val_acc: 0.9875\n",
            "Epoch 88/100\n",
            "858/857 [==============================] - 57s 66ms/step - loss: 0.2119 - acc: 0.9282 - val_loss: 0.0378 - val_acc: 0.9877\n",
            "Epoch 89/100\n",
            "858/857 [==============================] - 56s 66ms/step - loss: 0.2119 - acc: 0.9293 - val_loss: 0.0398 - val_acc: 0.9852\n",
            "Epoch 90/100\n",
            "858/857 [==============================] - 57s 66ms/step - loss: 0.2174 - acc: 0.9291 - val_loss: 0.0492 - val_acc: 0.9802\n",
            "Epoch 91/100\n",
            "858/857 [==============================] - 56s 66ms/step - loss: 0.2112 - acc: 0.9304 - val_loss: 0.0321 - val_acc: 0.9868\n",
            "Epoch 92/100\n",
            "858/857 [==============================] - 56s 65ms/step - loss: 0.2034 - acc: 0.9338 - val_loss: 0.0486 - val_acc: 0.9801\n",
            "Epoch 93/100\n",
            "858/857 [==============================] - 56s 65ms/step - loss: 0.2113 - acc: 0.9289 - val_loss: 0.0309 - val_acc: 0.9897\n",
            "Epoch 94/100\n",
            "858/857 [==============================] - 56s 65ms/step - loss: 0.2085 - acc: 0.9308 - val_loss: 0.0316 - val_acc: 0.9902\n",
            "Epoch 95/100\n",
            "858/857 [==============================] - 56s 66ms/step - loss: 0.2158 - acc: 0.9294 - val_loss: 0.0504 - val_acc: 0.9835\n",
            "Epoch 96/100\n",
            "858/857 [==============================] - 56s 65ms/step - loss: 0.1961 - acc: 0.9332 - val_loss: 0.0332 - val_acc: 0.9877\n",
            "Epoch 97/100\n",
            "858/857 [==============================] - 56s 65ms/step - loss: 0.2113 - acc: 0.9306 - val_loss: 0.0445 - val_acc: 0.9830\n",
            "Epoch 98/100\n",
            "858/857 [==============================] - 56s 65ms/step - loss: 0.1992 - acc: 0.9350 - val_loss: 0.0428 - val_acc: 0.9845\n",
            "Epoch 99/100\n",
            "858/857 [==============================] - 56s 65ms/step - loss: 0.2073 - acc: 0.9328 - val_loss: 0.0445 - val_acc: 0.9835\n",
            "Epoch 100/100\n",
            "858/857 [==============================] - 56s 66ms/step - loss: 0.2018 - acc: 0.9344 - val_loss: 0.0410 - val_acc: 0.9848\n",
            "7172/7172 [==============================] - 3s 463us/sample - loss: 4241.2401 - acc: 0.1408\n"
          ],
          "name": "stdout"
        },
        {
          "output_type": "execute_result",
          "data": {
            "text/plain": [
              "[6.92426086682151, 0.56609035]"
            ]
          },
          "metadata": {
            "tags": []
          },
          "execution_count": 12
        }
      ]
    },
    {
      "cell_type": "code",
      "metadata": {
        "id": "bcmNGGvH28bB",
        "colab_type": "code",
        "colab": {}
      },
      "source": [
        "model.save('kaggle_signlangMNIST_01.h5')"
      ],
      "execution_count": null,
      "outputs": []
    },
    {
      "cell_type": "code",
      "metadata": {
        "id": "_Q3Zpr46dsij",
        "colab_type": "code",
        "colab": {
          "base_uri": "https://localhost:8080/",
          "height": 545
        },
        "outputId": "e0c97835-1438-4dfb-9684-afe295b44085"
      },
      "source": [
        "# Plot the chart for accuracy and loss on both training and validation\n",
        "\n",
        "import matplotlib.pyplot as plt\n",
        "acc = history.history['acc']\n",
        "val_acc = history.history['val_acc']\n",
        "loss = history.history['loss']\n",
        "val_loss = history.history['val_loss']\n",
        "\n",
        "epochs = range(len(acc))\n",
        "\n",
        "plt.plot(epochs, acc, 'r', label='Training accuracy')\n",
        "plt.plot(epochs, val_acc, 'b', label='Validation accuracy')\n",
        "plt.title('Training and validation accuracy')\n",
        "plt.legend()\n",
        "plt.figure()\n",
        "\n",
        "plt.plot(epochs, loss, 'r', label='Training Loss')\n",
        "plt.plot(epochs, val_loss, 'b', label='Validation Loss')\n",
        "plt.title('Training and validation loss')\n",
        "plt.legend()\n",
        "\n",
        "plt.show()"
      ],
      "execution_count": null,
      "outputs": [
        {
          "output_type": "display_data",
          "data": {
            "image/png": "[encoded data removed]",
            "text/plain": [
              "<Figure size 432x288 with 1 Axes>"
            ]
          },
          "metadata": {
            "tags": []
          }
        },
        {
          "output_type": "display_data",
          "data": {
            "image/png": "[encoded data removed]",
            "text/plain": [
              "<Figure size 432x288 with 1 Axes>"
            ]
          },
          "metadata": {
            "tags": []
          }
        }
      ]
    },
    {
      "cell_type": "code",
      "metadata": {
        "id": "1-tryj8iUVxl",
        "colab_type": "code",
        "colab": {}
      },
      "source": [
        "import numpy as np\n",
        "from google.colab import files\n",
        "from keras.preprocessing import image\n",
        "\n",
        "uploaded = files.upload()\n",
        "\n",
        "for fn in uploaded.keys():\n",
        " \n",
        "  # predicting images\n",
        "  path = fn\n",
        "  img = image.load_img(path, target_size=(28, 28), color_mode='grayscale')\n",
        "  x = image.img_to_array(img)\n",
        "  x = np.expand_dims(x, axis=0)\n",
        "\n",
        "  images = np.vstack([x])\n",
        "  classes = model.predict(images, batch_size=10)\n",
        "  print(fn)\n",
        "  print(classes)"
      ],
      "execution_count": null,
      "outputs": []
    },
    {
      "cell_type": "code",
      "metadata": {
        "id": "WsoucFdfZPM1",
        "colab_type": "code",
        "colab": {
          "base_uri": "https://localhost:8080/",
          "height": 1000
        },
        "outputId": "812fa114-0390-46a3-d996-d86a1e3541a0"
      },
      "source": [
        "test_images = [\n",
        "    '/content/A (1).JPG',\n",
        "    '/content/F (1).JPG',\n",
        "    '/content/I (1).JPG',\n",
        "    '/content/R.JPG',\n",
        "    '/content/U.JPG']\n",
        "\n",
        "for fn in test_images:\n",
        "  path = fn\n",
        "  img = image.load_img(path, target_size=(28, 28), color_mode='grayscale')\n",
        "\n",
        "  x = image.img_to_array(img)\n",
        "  x = np.expand_dims(x, axis=0)\n",
        "\n",
        "  images = np.vstack([x])\n",
        "  classes = model.predict(images, batch_size=10)\n",
        "  result = np.where(classes[0] == np.amax(classes[0]))\n",
        "  print(fn)\n",
        "#   print(x)\n",
        "  print(classes)\n",
        "  print(chr(int(result[0]) + 65))\n",
        "  plt.imshow(img, cmap='binary')\n",
        "  plt.show()"
      ],
      "execution_count": null,
      "outputs": [
        {
          "output_type": "stream",
          "text": [
            "/content/A (1).JPG\n",
            "[[0. 0. 0. 0. 0. 0. 0. 0. 0. 0. 0. 0. 0. 0. 0. 0. 1. 0. 0. 0. 0. 0. 0. 0.\n",
            "  0. 0.]]\n",
            "Q\n"
          ],
          "name": "stdout"
        },
        {
          "output_type": "display_data",
          "data": {
            "image/png": "[encoded data removed]",
            "text/plain": [
              "<Figure size 432x288 with 1 Axes>"
            ]
          },
          "metadata": {
            "tags": []
          }
        },
        {
          "output_type": "stream",
          "text": [
            "/content/F (1).JPG\n",
            "[[0.000000e+00 0.000000e+00 6.395551e-22 0.000000e+00 0.000000e+00\n",
            "  0.000000e+00 0.000000e+00 0.000000e+00 0.000000e+00 0.000000e+00\n",
            "  0.000000e+00 0.000000e+00 0.000000e+00 0.000000e+00 0.000000e+00\n",
            "  0.000000e+00 1.000000e+00 0.000000e+00 0.000000e+00 0.000000e+00\n",
            "  0.000000e+00 0.000000e+00 0.000000e+00 0.000000e+00 0.000000e+00\n",
            "  0.000000e+00]]\n",
            "Q\n"
          ],
          "name": "stdout"
        },
        {
          "output_type": "display_data",
          "data": {
            "image/png": "[encoded data removed]",
            "text/plain": [
              "<Figure size 432x288 with 1 Axes>"
            ]
          },
          "metadata": {
            "tags": []
          }
        },
        {
          "output_type": "stream",
          "text": [
            "/content/I (1).JPG\n",
            "[[0.000000e+00 0.000000e+00 8.902489e-34 0.000000e+00 0.000000e+00\n",
            "  0.000000e+00 0.000000e+00 0.000000e+00 0.000000e+00 0.000000e+00\n",
            "  0.000000e+00 0.000000e+00 0.000000e+00 0.000000e+00 0.000000e+00\n",
            "  0.000000e+00 1.000000e+00 0.000000e+00 0.000000e+00 0.000000e+00\n",
            "  0.000000e+00 0.000000e+00 0.000000e+00 0.000000e+00 0.000000e+00\n",
            "  0.000000e+00]]\n",
            "Q\n"
          ],
          "name": "stdout"
        },
        {
          "output_type": "display_data",
          "data": {
            "image/png": "[encoded data removed]",
            "text/plain": [
              "<Figure size 432x288 with 1 Axes>"
            ]
          },
          "metadata": {
            "tags": []
          }
        },
        {
          "output_type": "stream",
          "text": [
            "/content/R.JPG\n",
            "[[0. 0. 0. 0. 0. 0. 0. 0. 0. 0. 0. 0. 0. 0. 0. 0. 1. 0. 0. 0. 0. 0. 0. 0.\n",
            "  0. 0.]]\n",
            "Q\n"
          ],
          "name": "stdout"
        },
        {
          "output_type": "display_data",
          "data": {
            "image/png": "[encoded data removed]",
            "text/plain": [
              "<Figure size 432x288 with 1 Axes>"
            ]
          },
          "metadata": {
            "tags": []
          }
        },
        {
          "output_type": "stream",
          "text": [
            "/content/U.JPG\n",
            "[[0. 0. 0. 0. 0. 0. 0. 0. 0. 0. 0. 0. 0. 0. 0. 0. 1. 0. 0. 0. 0. 0. 0. 0.\n",
            "  0. 0.]]\n",
            "Q\n"
          ],
          "name": "stdout"
        },
        {
          "output_type": "display_data",
          "data": {
            "image/png": "[encoded data removed]",
            "text/plain": [
              "<Figure size 432x288 with 1 Axes>"
            ]
          },
          "metadata": {
            "tags": []
          }
        }
      ]
    }
  ]
}